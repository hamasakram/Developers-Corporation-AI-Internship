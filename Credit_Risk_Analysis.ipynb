{
  "cells": [
    {
      "cell_type": "markdown",
      "metadata": {
        "id": "view-in-github",
        "colab_type": "text"
      },
      "source": [
        "<a href=\"https://colab.research.google.com/github/hamasakram/Developers-Corporation-AI-Internship/blob/main/Credit_Risk_Analysis.ipynb\" target=\"_parent\"><img src=\"https://colab.research.google.com/assets/colab-badge.svg\" alt=\"Open In Colab\"/></a>"
      ]
    },
    {
      "cell_type": "code",
      "execution_count": null,
      "id": "3f505c27",
      "metadata": {
        "execution": {
          "iopub.execute_input": "2023-12-15T05:56:05.018954Z",
          "iopub.status.busy": "2023-12-15T05:56:05.018595Z",
          "iopub.status.idle": "2023-12-15T05:56:06.825001Z",
          "shell.execute_reply": "2023-12-15T05:56:06.823891Z"
        },
        "papermill": {
          "duration": 1.81834,
          "end_time": "2023-12-15T05:56:06.827528",
          "exception": false,
          "start_time": "2023-12-15T05:56:05.009188",
          "status": "completed"
        },
        "tags": [],
        "id": "3f505c27"
      },
      "outputs": [],
      "source": [
        "import pandas as pd\n",
        "import numpy as np\n",
        "import matplotlib.pyplot as plt\n",
        "import seaborn as sns\n",
        "from sklearn.preprocessing import LabelEncoder\n",
        "from datetime import datetime"
      ]
    },
    {
      "cell_type": "code",
      "execution_count": null,
      "id": "c4006a0e",
      "metadata": {
        "execution": {
          "iopub.execute_input": "2023-12-15T05:56:06.844294Z",
          "iopub.status.busy": "2023-12-15T05:56:06.843714Z",
          "iopub.status.idle": "2023-12-15T05:56:21.643200Z",
          "shell.execute_reply": "2023-12-15T05:56:21.642245Z"
        },
        "papermill": {
          "duration": 14.810095,
          "end_time": "2023-12-15T05:56:21.645166",
          "exception": false,
          "start_time": "2023-12-15T05:56:06.835071",
          "status": "completed"
        },
        "tags": [],
        "id": "c4006a0e",
        "outputId": "e9d09d57-59a6-483f-fe2a-050ad9f4a553"
      },
      "outputs": [
        {
          "data": {
            "text/html": [
              "<div>\n",
              "<style scoped>\n",
              "    .dataframe tbody tr th:only-of-type {\n",
              "        vertical-align: middle;\n",
              "    }\n",
              "\n",
              "    .dataframe tbody tr th {\n",
              "        vertical-align: top;\n",
              "    }\n",
              "\n",
              "    .dataframe thead th {\n",
              "        text-align: right;\n",
              "    }\n",
              "</style>\n",
              "<table border=\"1\" class=\"dataframe\">\n",
              "  <thead>\n",
              "    <tr style=\"text-align: right;\">\n",
              "      <th></th>\n",
              "      <th>id</th>\n",
              "      <th>member_id</th>\n",
              "      <th>loan_amnt</th>\n",
              "      <th>funded_amnt</th>\n",
              "      <th>funded_amnt_inv</th>\n",
              "      <th>term</th>\n",
              "      <th>int_rate</th>\n",
              "      <th>installment</th>\n",
              "      <th>grade</th>\n",
              "      <th>sub_grade</th>\n",
              "      <th>...</th>\n",
              "      <th>total_bal_il</th>\n",
              "      <th>il_util</th>\n",
              "      <th>open_rv_12m</th>\n",
              "      <th>open_rv_24m</th>\n",
              "      <th>max_bal_bc</th>\n",
              "      <th>all_util</th>\n",
              "      <th>total_rev_hi_lim</th>\n",
              "      <th>inq_fi</th>\n",
              "      <th>total_cu_tl</th>\n",
              "      <th>inq_last_12m</th>\n",
              "    </tr>\n",
              "  </thead>\n",
              "  <tbody>\n",
              "    <tr>\n",
              "      <th>0</th>\n",
              "      <td>1077501</td>\n",
              "      <td>1296599</td>\n",
              "      <td>5000.0</td>\n",
              "      <td>5000.0</td>\n",
              "      <td>4975.0</td>\n",
              "      <td>36 months</td>\n",
              "      <td>10.65</td>\n",
              "      <td>162.87</td>\n",
              "      <td>B</td>\n",
              "      <td>B2</td>\n",
              "      <td>...</td>\n",
              "      <td>NaN</td>\n",
              "      <td>NaN</td>\n",
              "      <td>NaN</td>\n",
              "      <td>NaN</td>\n",
              "      <td>NaN</td>\n",
              "      <td>NaN</td>\n",
              "      <td>NaN</td>\n",
              "      <td>NaN</td>\n",
              "      <td>NaN</td>\n",
              "      <td>NaN</td>\n",
              "    </tr>\n",
              "    <tr>\n",
              "      <th>1</th>\n",
              "      <td>1077430</td>\n",
              "      <td>1314167</td>\n",
              "      <td>2500.0</td>\n",
              "      <td>2500.0</td>\n",
              "      <td>2500.0</td>\n",
              "      <td>60 months</td>\n",
              "      <td>15.27</td>\n",
              "      <td>59.83</td>\n",
              "      <td>C</td>\n",
              "      <td>C4</td>\n",
              "      <td>...</td>\n",
              "      <td>NaN</td>\n",
              "      <td>NaN</td>\n",
              "      <td>NaN</td>\n",
              "      <td>NaN</td>\n",
              "      <td>NaN</td>\n",
              "      <td>NaN</td>\n",
              "      <td>NaN</td>\n",
              "      <td>NaN</td>\n",
              "      <td>NaN</td>\n",
              "      <td>NaN</td>\n",
              "    </tr>\n",
              "    <tr>\n",
              "      <th>2</th>\n",
              "      <td>1077175</td>\n",
              "      <td>1313524</td>\n",
              "      <td>2400.0</td>\n",
              "      <td>2400.0</td>\n",
              "      <td>2400.0</td>\n",
              "      <td>36 months</td>\n",
              "      <td>15.96</td>\n",
              "      <td>84.33</td>\n",
              "      <td>C</td>\n",
              "      <td>C5</td>\n",
              "      <td>...</td>\n",
              "      <td>NaN</td>\n",
              "      <td>NaN</td>\n",
              "      <td>NaN</td>\n",
              "      <td>NaN</td>\n",
              "      <td>NaN</td>\n",
              "      <td>NaN</td>\n",
              "      <td>NaN</td>\n",
              "      <td>NaN</td>\n",
              "      <td>NaN</td>\n",
              "      <td>NaN</td>\n",
              "    </tr>\n",
              "    <tr>\n",
              "      <th>3</th>\n",
              "      <td>1076863</td>\n",
              "      <td>1277178</td>\n",
              "      <td>10000.0</td>\n",
              "      <td>10000.0</td>\n",
              "      <td>10000.0</td>\n",
              "      <td>36 months</td>\n",
              "      <td>13.49</td>\n",
              "      <td>339.31</td>\n",
              "      <td>C</td>\n",
              "      <td>C1</td>\n",
              "      <td>...</td>\n",
              "      <td>NaN</td>\n",
              "      <td>NaN</td>\n",
              "      <td>NaN</td>\n",
              "      <td>NaN</td>\n",
              "      <td>NaN</td>\n",
              "      <td>NaN</td>\n",
              "      <td>NaN</td>\n",
              "      <td>NaN</td>\n",
              "      <td>NaN</td>\n",
              "      <td>NaN</td>\n",
              "    </tr>\n",
              "    <tr>\n",
              "      <th>4</th>\n",
              "      <td>1075358</td>\n",
              "      <td>1311748</td>\n",
              "      <td>3000.0</td>\n",
              "      <td>3000.0</td>\n",
              "      <td>3000.0</td>\n",
              "      <td>60 months</td>\n",
              "      <td>12.69</td>\n",
              "      <td>67.79</td>\n",
              "      <td>B</td>\n",
              "      <td>B5</td>\n",
              "      <td>...</td>\n",
              "      <td>NaN</td>\n",
              "      <td>NaN</td>\n",
              "      <td>NaN</td>\n",
              "      <td>NaN</td>\n",
              "      <td>NaN</td>\n",
              "      <td>NaN</td>\n",
              "      <td>NaN</td>\n",
              "      <td>NaN</td>\n",
              "      <td>NaN</td>\n",
              "      <td>NaN</td>\n",
              "    </tr>\n",
              "  </tbody>\n",
              "</table>\n",
              "<p>5 rows × 74 columns</p>\n",
              "</div>"
            ],
            "text/plain": [
              "        id  member_id  loan_amnt  funded_amnt  funded_amnt_inv        term  \\\n",
              "0  1077501    1296599     5000.0       5000.0           4975.0   36 months   \n",
              "1  1077430    1314167     2500.0       2500.0           2500.0   60 months   \n",
              "2  1077175    1313524     2400.0       2400.0           2400.0   36 months   \n",
              "3  1076863    1277178    10000.0      10000.0          10000.0   36 months   \n",
              "4  1075358    1311748     3000.0       3000.0           3000.0   60 months   \n",
              "\n",
              "   int_rate  installment grade sub_grade  ... total_bal_il il_util  \\\n",
              "0     10.65       162.87     B        B2  ...          NaN     NaN   \n",
              "1     15.27        59.83     C        C4  ...          NaN     NaN   \n",
              "2     15.96        84.33     C        C5  ...          NaN     NaN   \n",
              "3     13.49       339.31     C        C1  ...          NaN     NaN   \n",
              "4     12.69        67.79     B        B5  ...          NaN     NaN   \n",
              "\n",
              "  open_rv_12m  open_rv_24m max_bal_bc all_util total_rev_hi_lim inq_fi  \\\n",
              "0         NaN          NaN        NaN      NaN              NaN    NaN   \n",
              "1         NaN          NaN        NaN      NaN              NaN    NaN   \n",
              "2         NaN          NaN        NaN      NaN              NaN    NaN   \n",
              "3         NaN          NaN        NaN      NaN              NaN    NaN   \n",
              "4         NaN          NaN        NaN      NaN              NaN    NaN   \n",
              "\n",
              "  total_cu_tl inq_last_12m  \n",
              "0         NaN          NaN  \n",
              "1         NaN          NaN  \n",
              "2         NaN          NaN  \n",
              "3         NaN          NaN  \n",
              "4         NaN          NaN  \n",
              "\n",
              "[5 rows x 74 columns]"
            ]
          },
          "execution_count": 2,
          "metadata": {},
          "output_type": "execute_result"
        }
      ],
      "source": [
        "data = pd.read_csv(\"/kaggle/input/credit-risk-dataset/loan/loan.csv\", low_memory=False)\n",
        "data.head()"
      ]
    },
    {
      "cell_type": "markdown",
      "id": "abf5acf1",
      "metadata": {
        "papermill": {
          "duration": 0.007213,
          "end_time": "2023-12-15T05:56:21.659913",
          "exception": false,
          "start_time": "2023-12-15T05:56:21.652700",
          "status": "completed"
        },
        "tags": [],
        "id": "abf5acf1"
      },
      "source": [
        "### Remove columns with >90% missing values"
      ]
    },
    {
      "cell_type": "code",
      "execution_count": null,
      "id": "c3a7ab15",
      "metadata": {
        "execution": {
          "iopub.execute_input": "2023-12-15T05:56:21.677179Z",
          "iopub.status.busy": "2023-12-15T05:56:21.676014Z",
          "iopub.status.idle": "2023-12-15T05:56:22.533510Z",
          "shell.execute_reply": "2023-12-15T05:56:22.532428Z"
        },
        "papermill": {
          "duration": 0.868496,
          "end_time": "2023-12-15T05:56:22.535896",
          "exception": false,
          "start_time": "2023-12-15T05:56:21.667400",
          "status": "completed"
        },
        "tags": [],
        "id": "c3a7ab15"
      },
      "outputs": [],
      "source": [
        "del_columns = []\n",
        "for col in data.columns:\n",
        "    if (data[col].isnull().sum() / len(data) * 100) > 90:\n",
        "        del_columns.append(col)\n",
        "\n",
        "data = data.drop(columns=del_columns)"
      ]
    },
    {
      "cell_type": "markdown",
      "id": "f8fe38cf",
      "metadata": {
        "papermill": {
          "duration": 0.007248,
          "end_time": "2023-12-15T05:56:22.550877",
          "exception": false,
          "start_time": "2023-12-15T05:56:22.543629",
          "status": "completed"
        },
        "tags": [],
        "id": "f8fe38cf"
      },
      "source": [
        "### Remove ID columns"
      ]
    },
    {
      "cell_type": "code",
      "execution_count": null,
      "id": "a3447331",
      "metadata": {
        "execution": {
          "iopub.execute_input": "2023-12-15T05:56:22.567793Z",
          "iopub.status.busy": "2023-12-15T05:56:22.566971Z",
          "iopub.status.idle": "2023-12-15T05:56:22.860274Z",
          "shell.execute_reply": "2023-12-15T05:56:22.859472Z"
        },
        "papermill": {
          "duration": 0.303795,
          "end_time": "2023-12-15T05:56:22.862438",
          "exception": false,
          "start_time": "2023-12-15T05:56:22.558643",
          "status": "completed"
        },
        "tags": [],
        "id": "a3447331"
      },
      "outputs": [],
      "source": [
        "id_columns = [\"id\", \"member_id\"]\n",
        "data = data.drop(columns=id_columns)"
      ]
    },
    {
      "cell_type": "code",
      "execution_count": null,
      "id": "2b3d41d8",
      "metadata": {
        "execution": {
          "iopub.execute_input": "2023-12-15T05:56:22.909620Z",
          "iopub.status.busy": "2023-12-15T05:56:22.909002Z",
          "iopub.status.idle": "2023-12-15T05:56:23.735859Z",
          "shell.execute_reply": "2023-12-15T05:56:23.734324Z"
        },
        "papermill": {
          "duration": 0.838306,
          "end_time": "2023-12-15T05:56:23.738431",
          "exception": false,
          "start_time": "2023-12-15T05:56:22.900125",
          "status": "completed"
        },
        "tags": [],
        "id": "2b3d41d8",
        "outputId": "f363aa24-2e6e-4ffd-9ff3-daf9763bd6dd"
      },
      "outputs": [
        {
          "name": "stdout",
          "output_type": "stream",
          "text": [
            "       addr_state zip_code\n",
            "count      887379   887379\n",
            "unique         51      935\n",
            "top            CA    945xx\n",
            "freq       129517     9770\n",
            "missing % addr_state: 0.0\n",
            "missing % zip_code: 0.0\n"
          ]
        }
      ],
      "source": [
        "feat_arr = [\"addr_state\", \"zip_code\"]\n",
        "print(data[feat_arr].describe())\n",
        "for col in feat_arr:\n",
        "    print(f\"missing % {col}:\", data[col].isnull().sum() / len(data) * 100)\n",
        "\n",
        "data[\"2_digit_zip\"] = data[\"zip_code\"].apply(lambda x: int(x[:2]))\n",
        "data = data.drop(columns=[\"addr_state\", \"zip_code\"])"
      ]
    },
    {
      "cell_type": "markdown",
      "id": "2408c5f1",
      "metadata": {
        "papermill": {
          "duration": 0.007302,
          "end_time": "2023-12-15T05:56:23.753669",
          "exception": false,
          "start_time": "2023-12-15T05:56:23.746367",
          "status": "completed"
        },
        "tags": [],
        "id": "2408c5f1"
      },
      "source": [
        "#### Employment and income related features\n",
        "- annual_inc\n",
        "- verification_status\n",
        "- emp_length\n",
        "- emp_title\n",
        "\n",
        "Let's remove the employment title as we already have the annual income feature.\\\n",
        "The emp_length needs to be cleaned and converted to numerical feature.\\\n",
        "We fill the missing values using mean imputation and encode the verification_status feature."
      ]
    },
    {
      "cell_type": "code",
      "execution_count": null,
      "id": "6624ae4c",
      "metadata": {
        "execution": {
          "iopub.execute_input": "2023-12-15T05:56:23.770868Z",
          "iopub.status.busy": "2023-12-15T05:56:23.770489Z",
          "iopub.status.idle": "2023-12-15T05:56:24.340062Z",
          "shell.execute_reply": "2023-12-15T05:56:24.338631Z"
        },
        "papermill": {
          "duration": 0.581113,
          "end_time": "2023-12-15T05:56:24.342649",
          "exception": false,
          "start_time": "2023-12-15T05:56:23.761536",
          "status": "completed"
        },
        "tags": [],
        "id": "6624ae4c",
        "outputId": "e0828db4-a164-4d22-f699-a726a98feaf3"
      },
      "outputs": [
        {
          "name": "stdout",
          "output_type": "stream",
          "text": [
            "         annual_inc\n",
            "count  8.873750e+05\n",
            "mean   7.502759e+04\n",
            "std    6.469830e+04\n",
            "min    0.000000e+00\n",
            "25%    4.500000e+04\n",
            "50%    6.500000e+04\n",
            "75%    9.000000e+04\n",
            "max    9.500000e+06\n",
            "       verification_status emp_length emp_title\n",
            "count               887379     842554    835917\n",
            "unique                   3         11    299271\n",
            "top        Source Verified  10+ years   Teacher\n",
            "freq                329558     291569     13469\n",
            "missing % annual_inc: 0.00045076568185634325\n",
            "missing % verification_status: 0.0\n",
            "missing % emp_length: 5.051392922302647\n",
            "missing % emp_title: 5.799325879922783\n"
          ]
        }
      ],
      "source": [
        "feat_arr_num = [\"annual_inc\"]\n",
        "feat_arr_cat = [\"verification_status\", \"emp_length\", \"emp_title\"]\n",
        "print(data[feat_arr_num].describe())\n",
        "print(data[feat_arr_cat].describe())\n",
        "for col in feat_arr_num+feat_arr_cat:\n",
        "    print(f\"missing % {col}:\", data[col].isnull().sum() / len(data) * 100)"
      ]
    },
    {
      "cell_type": "code",
      "execution_count": null,
      "id": "5f4db318",
      "metadata": {
        "execution": {
          "iopub.execute_input": "2023-12-15T05:56:24.360409Z",
          "iopub.status.busy": "2023-12-15T05:56:24.360054Z",
          "iopub.status.idle": "2023-12-15T05:56:25.761139Z",
          "shell.execute_reply": "2023-12-15T05:56:25.759849Z"
        },
        "papermill": {
          "duration": 1.41273,
          "end_time": "2023-12-15T05:56:25.763612",
          "exception": false,
          "start_time": "2023-12-15T05:56:24.350882",
          "status": "completed"
        },
        "tags": [],
        "id": "5f4db318"
      },
      "outputs": [],
      "source": [
        "def clean_emp_length(x):\n",
        "    if pd.isna(x): return None\n",
        "    if x.strip().lower()==\"< 1 year\": return 0\n",
        "    elif x.strip().lower()==\"1 year\": return 1\n",
        "    elif x.strip().lower()==\"10+ years\": return 11\n",
        "    else: return int(x.rstrip(\"years\").strip())\n",
        "\n",
        "data[\"emp_length\"] = data[\"emp_length\"].apply(clean_emp_length)\n",
        "data[\"emp_length\"] = data[\"emp_length\"].fillna(value=data[\"emp_length\"].mean())\n",
        "\n",
        "data[\"annual_inc\"] = data[\"annual_inc\"].fillna(value=data[\"annual_inc\"].mean())\n",
        "\n",
        "le = LabelEncoder()\n",
        "data['verification_status'] = le.fit_transform(data['verification_status'])\n",
        "\n",
        "data = data.drop(columns=[\"emp_title\"])"
      ]
    },
    {
      "cell_type": "code",
      "execution_count": null,
      "id": "7a1a67a3",
      "metadata": {
        "execution": {
          "iopub.execute_input": "2023-12-15T05:56:25.796423Z",
          "iopub.status.busy": "2023-12-15T05:56:25.796048Z",
          "iopub.status.idle": "2023-12-15T05:56:26.075547Z",
          "shell.execute_reply": "2023-12-15T05:56:26.074199Z"
        },
        "papermill": {
          "duration": 0.291383,
          "end_time": "2023-12-15T05:56:26.078245",
          "exception": false,
          "start_time": "2023-12-15T05:56:25.786862",
          "status": "completed"
        },
        "tags": [],
        "id": "7a1a67a3",
        "outputId": "be4f9fc9-a3a0-4458-8686-c582d9ed9947"
      },
      "outputs": [
        {
          "name": "stdout",
          "output_type": "stream",
          "text": [
            "                   purpose initial_list_status   issue_d\n",
            "count               887379              887379    887379\n",
            "unique                  14                   2       103\n",
            "top     debt_consolidation                   f  Oct-2015\n",
            "freq                524215              456848     48631\n",
            "missing % purpose: 0.0\n",
            "missing % initial_list_status: 0.0\n",
            "missing % issue_d: 0.0\n"
          ]
        }
      ],
      "source": [
        "feat_arr_cat = [\"purpose\", \"initial_list_status\", \"issue_d\"]\n",
        "print(data[feat_arr_cat].describe())\n",
        "for col in feat_arr_cat:\n",
        "    print(f\"missing % {col}:\", data[col].isnull().sum() / len(data) * 100)"
      ]
    },
    {
      "cell_type": "code",
      "execution_count": null,
      "id": "09671929",
      "metadata": {
        "execution": {
          "iopub.execute_input": "2023-12-15T05:56:26.096404Z",
          "iopub.status.busy": "2023-12-15T05:56:26.096066Z",
          "iopub.status.idle": "2023-12-15T05:56:33.858443Z",
          "shell.execute_reply": "2023-12-15T05:56:33.857098Z"
        },
        "papermill": {
          "duration": 7.774584,
          "end_time": "2023-12-15T05:56:33.861085",
          "exception": false,
          "start_time": "2023-12-15T05:56:26.086501",
          "status": "completed"
        },
        "tags": [],
        "id": "09671929"
      },
      "outputs": [],
      "source": [
        "le = LabelEncoder()\n",
        "data['purpose'] = le.fit_transform(data['purpose'])\n",
        "data['initial_list_status'] = le.fit_transform(data['initial_list_status'])\n",
        "\n",
        "def compute_time_since(x):\n",
        "    if pd.isna(x): return None\n",
        "    given_date = datetime.strptime(x, \"%b-%Y\")\n",
        "    current_date = datetime.now()\n",
        "    return (current_date - given_date).days / 365.25\n",
        "\n",
        "data[\"issue_d\"] = data[\"issue_d\"].apply(compute_time_since)\n",
        "\n",
        "data = data.drop(columns=[\"desc\", \"title\", \"url\", \"policy_code\", \"application_type\"])"
      ]
    },
    {
      "cell_type": "code",
      "execution_count": null,
      "id": "51b541aa",
      "metadata": {
        "execution": {
          "iopub.execute_input": "2023-12-15T05:56:33.895350Z",
          "iopub.status.busy": "2023-12-15T05:56:33.894926Z",
          "iopub.status.idle": "2023-12-15T05:56:34.192698Z",
          "shell.execute_reply": "2023-12-15T05:56:34.191592Z"
        },
        "papermill": {
          "duration": 0.309299,
          "end_time": "2023-12-15T05:56:34.194779",
          "exception": false,
          "start_time": "2023-12-15T05:56:33.885480",
          "status": "completed"
        },
        "tags": [],
        "id": "51b541aa",
        "outputId": "7f73b22d-3599-4aca-ce45-084dcfdd9e48"
      },
      "outputs": [
        {
          "data": {
            "text/html": [
              "<div>\n",
              "<style scoped>\n",
              "    .dataframe tbody tr th:only-of-type {\n",
              "        vertical-align: middle;\n",
              "    }\n",
              "\n",
              "    .dataframe tbody tr th {\n",
              "        vertical-align: top;\n",
              "    }\n",
              "\n",
              "    .dataframe thead th {\n",
              "        text-align: right;\n",
              "    }\n",
              "</style>\n",
              "<table border=\"1\" class=\"dataframe\">\n",
              "  <thead>\n",
              "    <tr style=\"text-align: right;\">\n",
              "      <th></th>\n",
              "      <th>loan_amnt</th>\n",
              "      <th>int_rate</th>\n",
              "      <th>installment</th>\n",
              "      <th>funded_amnt</th>\n",
              "      <th>funded_amnt_inv</th>\n",
              "      <th>total_pymnt</th>\n",
              "      <th>total_pymnt_inv</th>\n",
              "      <th>last_pymnt_amnt</th>\n",
              "      <th>total_rec_late_fee</th>\n",
              "    </tr>\n",
              "  </thead>\n",
              "  <tbody>\n",
              "    <tr>\n",
              "      <th>count</th>\n",
              "      <td>887379.000000</td>\n",
              "      <td>887379.000000</td>\n",
              "      <td>887379.000000</td>\n",
              "      <td>887379.000000</td>\n",
              "      <td>887379.000000</td>\n",
              "      <td>887379.000000</td>\n",
              "      <td>887379.000000</td>\n",
              "      <td>887379.000000</td>\n",
              "      <td>887379.000000</td>\n",
              "    </tr>\n",
              "    <tr>\n",
              "      <th>mean</th>\n",
              "      <td>14755.264605</td>\n",
              "      <td>13.246740</td>\n",
              "      <td>436.717127</td>\n",
              "      <td>14741.877625</td>\n",
              "      <td>14702.464383</td>\n",
              "      <td>7558.826684</td>\n",
              "      <td>7521.160306</td>\n",
              "      <td>2164.145585</td>\n",
              "      <td>0.396692</td>\n",
              "    </tr>\n",
              "    <tr>\n",
              "      <th>std</th>\n",
              "      <td>8435.455601</td>\n",
              "      <td>4.381867</td>\n",
              "      <td>244.186593</td>\n",
              "      <td>8429.897657</td>\n",
              "      <td>8442.106732</td>\n",
              "      <td>7871.243336</td>\n",
              "      <td>7846.108604</td>\n",
              "      <td>4794.783233</td>\n",
              "      <td>4.087825</td>\n",
              "    </tr>\n",
              "    <tr>\n",
              "      <th>min</th>\n",
              "      <td>500.000000</td>\n",
              "      <td>5.320000</td>\n",
              "      <td>15.670000</td>\n",
              "      <td>500.000000</td>\n",
              "      <td>0.000000</td>\n",
              "      <td>0.000000</td>\n",
              "      <td>0.000000</td>\n",
              "      <td>0.000000</td>\n",
              "      <td>0.000000</td>\n",
              "    </tr>\n",
              "    <tr>\n",
              "      <th>25%</th>\n",
              "      <td>8000.000000</td>\n",
              "      <td>9.990000</td>\n",
              "      <td>260.705000</td>\n",
              "      <td>8000.000000</td>\n",
              "      <td>8000.000000</td>\n",
              "      <td>1914.590000</td>\n",
              "      <td>1899.700000</td>\n",
              "      <td>280.170000</td>\n",
              "      <td>0.000000</td>\n",
              "    </tr>\n",
              "    <tr>\n",
              "      <th>50%</th>\n",
              "      <td>13000.000000</td>\n",
              "      <td>12.990000</td>\n",
              "      <td>382.550000</td>\n",
              "      <td>13000.000000</td>\n",
              "      <td>13000.000000</td>\n",
              "      <td>4894.999117</td>\n",
              "      <td>4862.010000</td>\n",
              "      <td>462.780000</td>\n",
              "      <td>0.000000</td>\n",
              "    </tr>\n",
              "    <tr>\n",
              "      <th>75%</th>\n",
              "      <td>20000.000000</td>\n",
              "      <td>16.200000</td>\n",
              "      <td>572.600000</td>\n",
              "      <td>20000.000000</td>\n",
              "      <td>20000.000000</td>\n",
              "      <td>10616.814231</td>\n",
              "      <td>10565.690000</td>\n",
              "      <td>831.245000</td>\n",
              "      <td>0.000000</td>\n",
              "    </tr>\n",
              "    <tr>\n",
              "      <th>max</th>\n",
              "      <td>35000.000000</td>\n",
              "      <td>28.990000</td>\n",
              "      <td>1445.460000</td>\n",
              "      <td>35000.000000</td>\n",
              "      <td>35000.000000</td>\n",
              "      <td>57777.579870</td>\n",
              "      <td>57777.580000</td>\n",
              "      <td>36475.590000</td>\n",
              "      <td>358.680000</td>\n",
              "    </tr>\n",
              "  </tbody>\n",
              "</table>\n",
              "</div>"
            ],
            "text/plain": [
              "           loan_amnt       int_rate    installment    funded_amnt  \\\n",
              "count  887379.000000  887379.000000  887379.000000  887379.000000   \n",
              "mean    14755.264605      13.246740     436.717127   14741.877625   \n",
              "std      8435.455601       4.381867     244.186593    8429.897657   \n",
              "min       500.000000       5.320000      15.670000     500.000000   \n",
              "25%      8000.000000       9.990000     260.705000    8000.000000   \n",
              "50%     13000.000000      12.990000     382.550000   13000.000000   \n",
              "75%     20000.000000      16.200000     572.600000   20000.000000   \n",
              "max     35000.000000      28.990000    1445.460000   35000.000000   \n",
              "\n",
              "       funded_amnt_inv    total_pymnt  total_pymnt_inv  last_pymnt_amnt  \\\n",
              "count    887379.000000  887379.000000    887379.000000    887379.000000   \n",
              "mean      14702.464383    7558.826684      7521.160306      2164.145585   \n",
              "std        8442.106732    7871.243336      7846.108604      4794.783233   \n",
              "min           0.000000       0.000000         0.000000         0.000000   \n",
              "25%        8000.000000    1914.590000      1899.700000       280.170000   \n",
              "50%       13000.000000    4894.999117      4862.010000       462.780000   \n",
              "75%       20000.000000   10616.814231     10565.690000       831.245000   \n",
              "max       35000.000000   57777.579870     57777.580000     36475.590000   \n",
              "\n",
              "       total_rec_late_fee  \n",
              "count       887379.000000  \n",
              "mean             0.396692  \n",
              "std              4.087825  \n",
              "min              0.000000  \n",
              "25%              0.000000  \n",
              "50%              0.000000  \n",
              "75%              0.000000  \n",
              "max            358.680000  "
            ]
          },
          "execution_count": 10,
          "metadata": {},
          "output_type": "execute_result"
        }
      ],
      "source": [
        "feat_arr_num = [\"loan_amnt\", \"int_rate\", \"installment\", \"funded_amnt\", \"funded_amnt_inv\",\n",
        "\"total_pymnt\", \"total_pymnt_inv\", \"last_pymnt_amnt\", \"total_rec_late_fee\"]\n",
        "data[feat_arr_num].describe()"
      ]
    },
    {
      "cell_type": "code",
      "execution_count": null,
      "id": "f63a42a8",
      "metadata": {
        "execution": {
          "iopub.execute_input": "2023-12-15T05:56:34.212823Z",
          "iopub.status.busy": "2023-12-15T05:56:34.212468Z",
          "iopub.status.idle": "2023-12-15T05:56:34.350968Z",
          "shell.execute_reply": "2023-12-15T05:56:34.350358Z"
        },
        "papermill": {
          "duration": 0.14973,
          "end_time": "2023-12-15T05:56:34.352762",
          "exception": false,
          "start_time": "2023-12-15T05:56:34.203032",
          "status": "completed"
        },
        "tags": [],
        "id": "f63a42a8",
        "outputId": "fa1e54bc-c499-4b22-e70d-0f5ec3b8063d"
      },
      "outputs": [
        {
          "data": {
            "text/html": [
              "<div>\n",
              "<style scoped>\n",
              "    .dataframe tbody tr th:only-of-type {\n",
              "        vertical-align: middle;\n",
              "    }\n",
              "\n",
              "    .dataframe tbody tr th {\n",
              "        vertical-align: top;\n",
              "    }\n",
              "\n",
              "    .dataframe thead th {\n",
              "        text-align: right;\n",
              "    }\n",
              "</style>\n",
              "<table border=\"1\" class=\"dataframe\">\n",
              "  <thead>\n",
              "    <tr style=\"text-align: right;\">\n",
              "      <th></th>\n",
              "      <th>term</th>\n",
              "      <th>last_pymnt_d</th>\n",
              "    </tr>\n",
              "  </thead>\n",
              "  <tbody>\n",
              "    <tr>\n",
              "      <th>count</th>\n",
              "      <td>887379</td>\n",
              "      <td>869720</td>\n",
              "    </tr>\n",
              "    <tr>\n",
              "      <th>unique</th>\n",
              "      <td>2</td>\n",
              "      <td>98</td>\n",
              "    </tr>\n",
              "    <tr>\n",
              "      <th>top</th>\n",
              "      <td>36 months</td>\n",
              "      <td>Jan-2016</td>\n",
              "    </tr>\n",
              "    <tr>\n",
              "      <th>freq</th>\n",
              "      <td>621125</td>\n",
              "      <td>470150</td>\n",
              "    </tr>\n",
              "  </tbody>\n",
              "</table>\n",
              "</div>"
            ],
            "text/plain": [
              "              term last_pymnt_d\n",
              "count       887379       869720\n",
              "unique           2           98\n",
              "top      36 months     Jan-2016\n",
              "freq        621125       470150"
            ]
          },
          "execution_count": 11,
          "metadata": {},
          "output_type": "execute_result"
        }
      ],
      "source": [
        "feat_arr_cat = [\"term\", \"last_pymnt_d\"]\n",
        "data[feat_arr_cat].describe()"
      ]
    },
    {
      "cell_type": "code",
      "execution_count": null,
      "id": "5a40deb5",
      "metadata": {
        "execution": {
          "iopub.execute_input": "2023-12-15T05:56:34.371348Z",
          "iopub.status.busy": "2023-12-15T05:56:34.370157Z",
          "iopub.status.idle": "2023-12-15T05:56:34.437313Z",
          "shell.execute_reply": "2023-12-15T05:56:34.435777Z"
        },
        "papermill": {
          "duration": 0.078935,
          "end_time": "2023-12-15T05:56:34.439843",
          "exception": false,
          "start_time": "2023-12-15T05:56:34.360908",
          "status": "completed"
        },
        "tags": [],
        "id": "5a40deb5",
        "outputId": "55c03008-56e4-44d6-af66-e45f06f155e2"
      },
      "outputs": [
        {
          "name": "stdout",
          "output_type": "stream",
          "text": [
            "missing % term: 0.0\n",
            "missing % last_pymnt_d: 1.9900177939752912\n",
            "missing % loan_amnt: 0.0\n",
            "missing % int_rate: 0.0\n",
            "missing % installment: 0.0\n",
            "missing % funded_amnt: 0.0\n",
            "missing % funded_amnt_inv: 0.0\n",
            "missing % total_pymnt: 0.0\n",
            "missing % total_pymnt_inv: 0.0\n",
            "missing % last_pymnt_amnt: 0.0\n",
            "missing % total_rec_late_fee: 0.0\n"
          ]
        }
      ],
      "source": [
        "for col in feat_arr_cat+feat_arr_num:\n",
        "    print(f\"missing % {col}:\", data[col].isnull().sum() / len(data) * 100)"
      ]
    },
    {
      "cell_type": "code",
      "execution_count": null,
      "id": "5ed7d1b4",
      "metadata": {
        "execution": {
          "iopub.execute_input": "2023-12-15T05:56:34.457824Z",
          "iopub.status.busy": "2023-12-15T05:56:34.457426Z",
          "iopub.status.idle": "2023-12-15T05:56:41.733551Z",
          "shell.execute_reply": "2023-12-15T05:56:41.732589Z"
        },
        "papermill": {
          "duration": 7.287899,
          "end_time": "2023-12-15T05:56:41.736004",
          "exception": false,
          "start_time": "2023-12-15T05:56:34.448105",
          "status": "completed"
        },
        "tags": [],
        "id": "5ed7d1b4"
      },
      "outputs": [],
      "source": [
        "le = LabelEncoder()\n",
        "data['term'] = le.fit_transform(data['term'])\n",
        "\n",
        "data[\"last_pymnt_d\"] = data[\"last_pymnt_d\"].apply(compute_time_since)\n",
        "data[\"last_pymnt_d\"] = data[\"last_pymnt_d\"].fillna(value=data[\"last_pymnt_d\"].mean())\n",
        "\n",
        "data = data.drop(columns=[\"total_rec_int\", \"total_rec_prncp\", \"out_prncp\", \"out_prncp_inv\", \"pymnt_plan\"])"
      ]
    },
    {
      "cell_type": "code",
      "execution_count": null,
      "id": "0aef3a2d",
      "metadata": {
        "execution": {
          "iopub.execute_input": "2023-12-15T05:56:41.770688Z",
          "iopub.status.busy": "2023-12-15T05:56:41.770341Z",
          "iopub.status.idle": "2023-12-15T05:56:42.320794Z",
          "shell.execute_reply": "2023-12-15T05:56:42.319523Z"
        },
        "papermill": {
          "duration": 0.561991,
          "end_time": "2023-12-15T05:56:42.323094",
          "exception": false,
          "start_time": "2023-12-15T05:56:41.761103",
          "status": "completed"
        },
        "tags": [],
        "id": "0aef3a2d",
        "outputId": "3fb71075-7b7f-4c47-cca5-ccf833df5c75"
      },
      "outputs": [
        {
          "data": {
            "text/html": [
              "<div>\n",
              "<style scoped>\n",
              "    .dataframe tbody tr th:only-of-type {\n",
              "        vertical-align: middle;\n",
              "    }\n",
              "\n",
              "    .dataframe tbody tr th {\n",
              "        vertical-align: top;\n",
              "    }\n",
              "\n",
              "    .dataframe thead th {\n",
              "        text-align: right;\n",
              "    }\n",
              "</style>\n",
              "<table border=\"1\" class=\"dataframe\">\n",
              "  <thead>\n",
              "    <tr style=\"text-align: right;\">\n",
              "      <th></th>\n",
              "      <th>dti</th>\n",
              "      <th>delinq_2yrs</th>\n",
              "      <th>collections_12_mths_ex_med</th>\n",
              "      <th>inq_last_6mths</th>\n",
              "      <th>total_rev_hi_lim</th>\n",
              "      <th>acc_now_delinq</th>\n",
              "      <th>tot_coll_amt</th>\n",
              "      <th>tot_cur_bal</th>\n",
              "      <th>open_acc</th>\n",
              "      <th>total_acc</th>\n",
              "      <th>mths_since_last_delinq</th>\n",
              "      <th>mths_since_last_major_derog</th>\n",
              "      <th>mths_since_last_record</th>\n",
              "      <th>pub_rec</th>\n",
              "      <th>revol_bal</th>\n",
              "      <th>revol_util</th>\n",
              "    </tr>\n",
              "  </thead>\n",
              "  <tbody>\n",
              "    <tr>\n",
              "      <th>count</th>\n",
              "      <td>887379.000000</td>\n",
              "      <td>887350.000000</td>\n",
              "      <td>887234.000000</td>\n",
              "      <td>887350.000000</td>\n",
              "      <td>8.171030e+05</td>\n",
              "      <td>887350.000000</td>\n",
              "      <td>8.171030e+05</td>\n",
              "      <td>8.171030e+05</td>\n",
              "      <td>887350.000000</td>\n",
              "      <td>887350.000000</td>\n",
              "      <td>433067.000000</td>\n",
              "      <td>221703.000000</td>\n",
              "      <td>137053.000000</td>\n",
              "      <td>887350.000000</td>\n",
              "      <td>8.873790e+05</td>\n",
              "      <td>886877.000000</td>\n",
              "    </tr>\n",
              "    <tr>\n",
              "      <th>mean</th>\n",
              "      <td>18.157039</td>\n",
              "      <td>0.314442</td>\n",
              "      <td>0.014380</td>\n",
              "      <td>0.694623</td>\n",
              "      <td>3.206862e+04</td>\n",
              "      <td>0.004991</td>\n",
              "      <td>2.257026e+02</td>\n",
              "      <td>1.394582e+05</td>\n",
              "      <td>11.548469</td>\n",
              "      <td>25.268026</td>\n",
              "      <td>34.063798</td>\n",
              "      <td>44.104838</td>\n",
              "      <td>70.117903</td>\n",
              "      <td>0.195307</td>\n",
              "      <td>1.692079e+04</td>\n",
              "      <td>55.067693</td>\n",
              "    </tr>\n",
              "    <tr>\n",
              "      <th>std</th>\n",
              "      <td>17.190626</td>\n",
              "      <td>0.862244</td>\n",
              "      <td>0.134191</td>\n",
              "      <td>0.998448</td>\n",
              "      <td>3.749826e+04</td>\n",
              "      <td>0.077625</td>\n",
              "      <td>1.031137e+04</td>\n",
              "      <td>1.537500e+05</td>\n",
              "      <td>5.317313</td>\n",
              "      <td>11.840561</td>\n",
              "      <td>21.884940</td>\n",
              "      <td>22.179841</td>\n",
              "      <td>28.127914</td>\n",
              "      <td>0.582091</td>\n",
              "      <td>2.242679e+04</td>\n",
              "      <td>23.834344</td>\n",
              "    </tr>\n",
              "    <tr>\n",
              "      <th>min</th>\n",
              "      <td>0.000000</td>\n",
              "      <td>0.000000</td>\n",
              "      <td>0.000000</td>\n",
              "      <td>0.000000</td>\n",
              "      <td>0.000000e+00</td>\n",
              "      <td>0.000000</td>\n",
              "      <td>0.000000e+00</td>\n",
              "      <td>0.000000e+00</td>\n",
              "      <td>0.000000</td>\n",
              "      <td>1.000000</td>\n",
              "      <td>0.000000</td>\n",
              "      <td>0.000000</td>\n",
              "      <td>0.000000</td>\n",
              "      <td>0.000000</td>\n",
              "      <td>0.000000e+00</td>\n",
              "      <td>0.000000</td>\n",
              "    </tr>\n",
              "    <tr>\n",
              "      <th>25%</th>\n",
              "      <td>11.910000</td>\n",
              "      <td>0.000000</td>\n",
              "      <td>0.000000</td>\n",
              "      <td>0.000000</td>\n",
              "      <td>1.390000e+04</td>\n",
              "      <td>0.000000</td>\n",
              "      <td>0.000000e+00</td>\n",
              "      <td>2.985300e+04</td>\n",
              "      <td>8.000000</td>\n",
              "      <td>17.000000</td>\n",
              "      <td>15.000000</td>\n",
              "      <td>27.000000</td>\n",
              "      <td>51.000000</td>\n",
              "      <td>0.000000</td>\n",
              "      <td>6.443000e+03</td>\n",
              "      <td>37.700000</td>\n",
              "    </tr>\n",
              "    <tr>\n",
              "      <th>50%</th>\n",
              "      <td>17.650000</td>\n",
              "      <td>0.000000</td>\n",
              "      <td>0.000000</td>\n",
              "      <td>0.000000</td>\n",
              "      <td>2.370000e+04</td>\n",
              "      <td>0.000000</td>\n",
              "      <td>0.000000e+00</td>\n",
              "      <td>8.055900e+04</td>\n",
              "      <td>11.000000</td>\n",
              "      <td>24.000000</td>\n",
              "      <td>31.000000</td>\n",
              "      <td>44.000000</td>\n",
              "      <td>70.000000</td>\n",
              "      <td>0.000000</td>\n",
              "      <td>1.187500e+04</td>\n",
              "      <td>56.000000</td>\n",
              "    </tr>\n",
              "    <tr>\n",
              "      <th>75%</th>\n",
              "      <td>23.950000</td>\n",
              "      <td>0.000000</td>\n",
              "      <td>0.000000</td>\n",
              "      <td>1.000000</td>\n",
              "      <td>3.980000e+04</td>\n",
              "      <td>0.000000</td>\n",
              "      <td>0.000000e+00</td>\n",
              "      <td>2.082050e+05</td>\n",
              "      <td>14.000000</td>\n",
              "      <td>32.000000</td>\n",
              "      <td>50.000000</td>\n",
              "      <td>61.000000</td>\n",
              "      <td>92.000000</td>\n",
              "      <td>0.000000</td>\n",
              "      <td>2.082900e+04</td>\n",
              "      <td>73.600000</td>\n",
              "    </tr>\n",
              "    <tr>\n",
              "      <th>max</th>\n",
              "      <td>9999.000000</td>\n",
              "      <td>39.000000</td>\n",
              "      <td>20.000000</td>\n",
              "      <td>33.000000</td>\n",
              "      <td>9.999999e+06</td>\n",
              "      <td>14.000000</td>\n",
              "      <td>9.152545e+06</td>\n",
              "      <td>8.000078e+06</td>\n",
              "      <td>90.000000</td>\n",
              "      <td>169.000000</td>\n",
              "      <td>188.000000</td>\n",
              "      <td>188.000000</td>\n",
              "      <td>129.000000</td>\n",
              "      <td>86.000000</td>\n",
              "      <td>2.904836e+06</td>\n",
              "      <td>892.300000</td>\n",
              "    </tr>\n",
              "  </tbody>\n",
              "</table>\n",
              "</div>"
            ],
            "text/plain": [
              "                 dti    delinq_2yrs  collections_12_mths_ex_med  \\\n",
              "count  887379.000000  887350.000000               887234.000000   \n",
              "mean       18.157039       0.314442                    0.014380   \n",
              "std        17.190626       0.862244                    0.134191   \n",
              "min         0.000000       0.000000                    0.000000   \n",
              "25%        11.910000       0.000000                    0.000000   \n",
              "50%        17.650000       0.000000                    0.000000   \n",
              "75%        23.950000       0.000000                    0.000000   \n",
              "max      9999.000000      39.000000                   20.000000   \n",
              "\n",
              "       inq_last_6mths  total_rev_hi_lim  acc_now_delinq  tot_coll_amt  \\\n",
              "count   887350.000000      8.171030e+05   887350.000000  8.171030e+05   \n",
              "mean         0.694623      3.206862e+04        0.004991  2.257026e+02   \n",
              "std          0.998448      3.749826e+04        0.077625  1.031137e+04   \n",
              "min          0.000000      0.000000e+00        0.000000  0.000000e+00   \n",
              "25%          0.000000      1.390000e+04        0.000000  0.000000e+00   \n",
              "50%          0.000000      2.370000e+04        0.000000  0.000000e+00   \n",
              "75%          1.000000      3.980000e+04        0.000000  0.000000e+00   \n",
              "max         33.000000      9.999999e+06       14.000000  9.152545e+06   \n",
              "\n",
              "        tot_cur_bal       open_acc      total_acc  mths_since_last_delinq  \\\n",
              "count  8.171030e+05  887350.000000  887350.000000           433067.000000   \n",
              "mean   1.394582e+05      11.548469      25.268026               34.063798   \n",
              "std    1.537500e+05       5.317313      11.840561               21.884940   \n",
              "min    0.000000e+00       0.000000       1.000000                0.000000   \n",
              "25%    2.985300e+04       8.000000      17.000000               15.000000   \n",
              "50%    8.055900e+04      11.000000      24.000000               31.000000   \n",
              "75%    2.082050e+05      14.000000      32.000000               50.000000   \n",
              "max    8.000078e+06      90.000000     169.000000              188.000000   \n",
              "\n",
              "       mths_since_last_major_derog  mths_since_last_record        pub_rec  \\\n",
              "count                221703.000000           137053.000000  887350.000000   \n",
              "mean                     44.104838               70.117903       0.195307   \n",
              "std                      22.179841               28.127914       0.582091   \n",
              "min                       0.000000                0.000000       0.000000   \n",
              "25%                      27.000000               51.000000       0.000000   \n",
              "50%                      44.000000               70.000000       0.000000   \n",
              "75%                      61.000000               92.000000       0.000000   \n",
              "max                     188.000000              129.000000      86.000000   \n",
              "\n",
              "          revol_bal     revol_util  \n",
              "count  8.873790e+05  886877.000000  \n",
              "mean   1.692079e+04      55.067693  \n",
              "std    2.242679e+04      23.834344  \n",
              "min    0.000000e+00       0.000000  \n",
              "25%    6.443000e+03      37.700000  \n",
              "50%    1.187500e+04      56.000000  \n",
              "75%    2.082900e+04      73.600000  \n",
              "max    2.904836e+06     892.300000  "
            ]
          },
          "execution_count": 14,
          "metadata": {},
          "output_type": "execute_result"
        }
      ],
      "source": [
        "feat_arr_num = [\"dti\",\"earliest_cr_line\",\"delinq_2yrs\",\"collections_12_mths_ex_med\",\n",
        "\"inq_last_6mths\",\"total_rev_hi_lim\",\"acc_now_delinq\",\"tot_coll_amt\",\"tot_cur_bal\",\n",
        "\"last_credit_pull_d\",\"open_acc\",\"total_acc\",\"mths_since_last_delinq\",\n",
        "\"mths_since_last_major_derog\",\"mths_since_last_record\",\"pub_rec\",\"revol_bal\",\"revol_util\"]\n",
        "data[feat_arr_num].describe()"
      ]
    },
    {
      "cell_type": "code",
      "execution_count": null,
      "id": "d7fdafc2",
      "metadata": {
        "execution": {
          "iopub.execute_input": "2023-12-15T05:56:42.343370Z",
          "iopub.status.busy": "2023-12-15T05:56:42.342907Z",
          "iopub.status.idle": "2023-12-15T05:56:42.489865Z",
          "shell.execute_reply": "2023-12-15T05:56:42.488542Z"
        },
        "papermill": {
          "duration": 0.159515,
          "end_time": "2023-12-15T05:56:42.492111",
          "exception": false,
          "start_time": "2023-12-15T05:56:42.332596",
          "status": "completed"
        },
        "tags": [],
        "id": "d7fdafc2",
        "outputId": "ff0974db-0bef-43a1-9b81-a31cfca4cdf4"
      },
      "outputs": [
        {
          "data": {
            "text/html": [
              "<div>\n",
              "<style scoped>\n",
              "    .dataframe tbody tr th:only-of-type {\n",
              "        vertical-align: middle;\n",
              "    }\n",
              "\n",
              "    .dataframe tbody tr th {\n",
              "        vertical-align: top;\n",
              "    }\n",
              "\n",
              "    .dataframe thead th {\n",
              "        text-align: right;\n",
              "    }\n",
              "</style>\n",
              "<table border=\"1\" class=\"dataframe\">\n",
              "  <thead>\n",
              "    <tr style=\"text-align: right;\">\n",
              "      <th></th>\n",
              "      <th>earliest_cr_line</th>\n",
              "      <th>last_credit_pull_d</th>\n",
              "    </tr>\n",
              "  </thead>\n",
              "  <tbody>\n",
              "    <tr>\n",
              "      <th>count</th>\n",
              "      <td>887350</td>\n",
              "      <td>887326</td>\n",
              "    </tr>\n",
              "    <tr>\n",
              "      <th>unique</th>\n",
              "      <td>697</td>\n",
              "      <td>103</td>\n",
              "    </tr>\n",
              "    <tr>\n",
              "      <th>top</th>\n",
              "      <td>Aug-2001</td>\n",
              "      <td>Jan-2016</td>\n",
              "    </tr>\n",
              "    <tr>\n",
              "      <th>freq</th>\n",
              "      <td>6659</td>\n",
              "      <td>730574</td>\n",
              "    </tr>\n",
              "  </tbody>\n",
              "</table>\n",
              "</div>"
            ],
            "text/plain": [
              "       earliest_cr_line last_credit_pull_d\n",
              "count            887350             887326\n",
              "unique              697                103\n",
              "top            Aug-2001           Jan-2016\n",
              "freq               6659             730574"
            ]
          },
          "execution_count": 15,
          "metadata": {},
          "output_type": "execute_result"
        }
      ],
      "source": [
        "feat_arr_cat = [\"earliest_cr_line\", \"last_credit_pull_d\"]\n",
        "data[feat_arr_cat].describe()"
      ]
    },
    {
      "cell_type": "code",
      "execution_count": null,
      "id": "f59d096c",
      "metadata": {
        "execution": {
          "iopub.execute_input": "2023-12-15T05:56:42.570236Z",
          "iopub.status.busy": "2023-12-15T05:56:42.569859Z",
          "iopub.status.idle": "2023-12-15T05:56:42.689873Z",
          "shell.execute_reply": "2023-12-15T05:56:42.688555Z"
        },
        "papermill": {
          "duration": 0.13271,
          "end_time": "2023-12-15T05:56:42.692043",
          "exception": false,
          "start_time": "2023-12-15T05:56:42.559333",
          "status": "completed"
        },
        "tags": [],
        "id": "f59d096c",
        "outputId": "425a89f6-0e2b-4a25-dcfa-390151b4bd2b"
      },
      "outputs": [
        {
          "name": "stdout",
          "output_type": "stream",
          "text": [
            "missing % earliest_cr_line: 0.0032680511934584885\n",
            "missing % last_credit_pull_d: 0.005972645284596547\n",
            "missing % dti: 0.0\n",
            "missing % earliest_cr_line: 0.0032680511934584885\n",
            "missing % delinq_2yrs: 0.0032680511934584885\n",
            "missing % collections_12_mths_ex_med: 0.016340255967292442\n",
            "missing % inq_last_6mths: 0.0032680511934584885\n",
            "missing % total_rev_hi_lim: 7.919502264534094\n",
            "missing % acc_now_delinq: 0.0032680511934584885\n",
            "missing % tot_coll_amt: 7.919502264534094\n",
            "missing % tot_cur_bal: 7.919502264534094\n",
            "missing % last_credit_pull_d: 0.005972645284596547\n",
            "missing % open_acc: 0.0032680511934584885\n",
            "missing % total_acc: 0.0032680511934584885\n",
            "missing % mths_since_last_delinq: 51.19706461387975\n",
            "missing % mths_since_last_major_derog: 75.01597400885078\n",
            "missing % mths_since_last_record: 84.55530275113566\n",
            "missing % pub_rec: 0.0032680511934584885\n",
            "missing % revol_bal: 0.0\n",
            "missing % revol_util: 0.05657109307297107\n"
          ]
        }
      ],
      "source": [
        "for col in feat_arr_cat+feat_arr_num:\n",
        "    print(f\"missing % {col}:\", data[col].isnull().sum() / len(data) * 100)"
      ]
    },
    {
      "cell_type": "code",
      "execution_count": null,
      "id": "4d511f05",
      "metadata": {
        "execution": {
          "iopub.execute_input": "2023-12-15T05:56:42.712484Z",
          "iopub.status.busy": "2023-12-15T05:56:42.712108Z",
          "iopub.status.idle": "2023-12-15T05:56:57.305251Z",
          "shell.execute_reply": "2023-12-15T05:56:57.303753Z"
        },
        "papermill": {
          "duration": 14.606361,
          "end_time": "2023-12-15T05:56:57.307800",
          "exception": false,
          "start_time": "2023-12-15T05:56:42.701439",
          "status": "completed"
        },
        "tags": [],
        "id": "4d511f05"
      },
      "outputs": [],
      "source": [
        "data[\"earliest_cr_line\"] = data[\"earliest_cr_line\"].apply(compute_time_since)\n",
        "data[\"last_credit_pull_d\"] = data[\"last_credit_pull_d\"].apply(compute_time_since)\n",
        "\n",
        "data[feat_arr_num] = data[feat_arr_num].fillna(data[feat_arr_num].mean())\n",
        "data[feat_arr_cat] = data[feat_arr_cat].fillna(data[feat_arr_cat].mean())"
      ]
    },
    {
      "cell_type": "markdown",
      "id": "4fb094c0",
      "metadata": {
        "papermill": {
          "duration": 0.008732,
          "end_time": "2023-12-15T05:56:57.325935",
          "exception": false,
          "start_time": "2023-12-15T05:56:57.317203",
          "status": "completed"
        },
        "tags": [],
        "id": "4fb094c0"
      },
      "source": [
        "#### Loan grade related features\n",
        "- grade\n",
        "- sub_grade\n",
        "\n",
        "We keep both features and encode them."
      ]
    },
    {
      "cell_type": "code",
      "execution_count": null,
      "id": "dd032c66",
      "metadata": {
        "execution": {
          "iopub.execute_input": "2023-12-15T05:56:57.346006Z",
          "iopub.status.busy": "2023-12-15T05:56:57.345443Z",
          "iopub.status.idle": "2023-12-15T05:56:57.649890Z",
          "shell.execute_reply": "2023-12-15T05:56:57.648479Z"
        },
        "papermill": {
          "duration": 0.317268,
          "end_time": "2023-12-15T05:56:57.652461",
          "exception": false,
          "start_time": "2023-12-15T05:56:57.335193",
          "status": "completed"
        },
        "tags": [],
        "id": "dd032c66"
      },
      "outputs": [],
      "source": [
        "le = LabelEncoder()\n",
        "data['grade'] = le.fit_transform(data['grade'])\n",
        "data['sub_grade'] = le.fit_transform(data['sub_grade'])"
      ]
    },
    {
      "cell_type": "markdown",
      "id": "c924f046",
      "metadata": {
        "papermill": {
          "duration": 0.008744,
          "end_time": "2023-12-15T05:56:57.670431",
          "exception": false,
          "start_time": "2023-12-15T05:56:57.661687",
          "status": "completed"
        },
        "tags": [],
        "id": "c924f046"
      },
      "source": [
        "#### Home ownership related feature\n",
        "- home_ownership\n",
        "\n",
        "We keep this feature and encode it."
      ]
    },
    {
      "cell_type": "code",
      "execution_count": null,
      "id": "1992d9c3",
      "metadata": {
        "execution": {
          "iopub.execute_input": "2023-12-15T05:56:57.691629Z",
          "iopub.status.busy": "2023-12-15T05:56:57.691267Z",
          "iopub.status.idle": "2023-12-15T05:56:57.842636Z",
          "shell.execute_reply": "2023-12-15T05:56:57.841223Z"
        },
        "papermill": {
          "duration": 0.165389,
          "end_time": "2023-12-15T05:56:57.845116",
          "exception": false,
          "start_time": "2023-12-15T05:56:57.679727",
          "status": "completed"
        },
        "tags": [],
        "id": "1992d9c3"
      },
      "outputs": [],
      "source": [
        "le = LabelEncoder()\n",
        "data['home_ownership'] = le.fit_transform(data['home_ownership'])"
      ]
    },
    {
      "cell_type": "code",
      "execution_count": null,
      "id": "2b862e5d",
      "metadata": {
        "execution": {
          "iopub.execute_input": "2023-12-15T05:56:57.882756Z",
          "iopub.status.busy": "2023-12-15T05:56:57.881866Z",
          "iopub.status.idle": "2023-12-15T05:56:57.968914Z",
          "shell.execute_reply": "2023-12-15T05:56:57.967171Z"
        },
        "papermill": {
          "duration": 0.099885,
          "end_time": "2023-12-15T05:56:57.971643",
          "exception": false,
          "start_time": "2023-12-15T05:56:57.871758",
          "status": "completed"
        },
        "tags": [],
        "id": "2b862e5d"
      },
      "outputs": [],
      "source": [
        "data = data.drop(columns=[\"collection_recovery_fee\", \"recoveries\", \"next_pymnt_d\"])"
      ]
    },
    {
      "cell_type": "markdown",
      "id": "0972b5c9",
      "metadata": {
        "papermill": {
          "duration": 0.008741,
          "end_time": "2023-12-15T05:56:57.989431",
          "exception": false,
          "start_time": "2023-12-15T05:56:57.980690",
          "status": "completed"
        },
        "tags": [],
        "id": "0972b5c9"
      },
      "source": [
        "### Target class distribution"
      ]
    },
    {
      "cell_type": "code",
      "execution_count": null,
      "id": "123ba90b",
      "metadata": {
        "execution": {
          "iopub.execute_input": "2023-12-15T05:56:58.009426Z",
          "iopub.status.busy": "2023-12-15T05:56:58.007975Z",
          "iopub.status.idle": "2023-12-15T05:56:58.638173Z",
          "shell.execute_reply": "2023-12-15T05:56:58.636816Z"
        },
        "papermill": {
          "duration": 0.642706,
          "end_time": "2023-12-15T05:56:58.640818",
          "exception": false,
          "start_time": "2023-12-15T05:56:57.998112",
          "status": "completed"
        },
        "tags": [],
        "id": "123ba90b",
        "outputId": "74ee3a92-71cd-4716-f91e-bfe16bfb6070"
      },
      "outputs": [
        {
          "data": {
            "text/plain": [
              "<Axes: xlabel='count', ylabel='loan_status'>"
            ]
          },
          "execution_count": 21,
          "metadata": {},
          "output_type": "execute_result"
        },
        {
          "data": {
            "image/png": "[encoded data removed]",
            "text/plain": [
              "<Figure size 640x480 with 1 Axes>"
            ]
          },
          "metadata": {},
          "output_type": "display_data"
        }
      ],
      "source": [
        "sns.countplot(data=data, y=\"loan_status\")"
      ]
    },
    {
      "cell_type": "markdown",
      "id": "db788473",
      "metadata": {
        "papermill": {
          "duration": 0.009748,
          "end_time": "2023-12-15T05:56:58.660452",
          "exception": false,
          "start_time": "2023-12-15T05:56:58.650704",
          "status": "completed"
        },
        "tags": [],
        "id": "db788473"
      },
      "source": [
        "### Binarize the target\n",
        "- 0: fully paid, current, etc.\n",
        "- 1: charged off, late, etc.\n"
      ]
    },
    {
      "cell_type": "code",
      "execution_count": null,
      "id": "e489657f",
      "metadata": {
        "execution": {
          "iopub.execute_input": "2023-12-15T05:56:58.682778Z",
          "iopub.status.busy": "2023-12-15T05:56:58.682398Z",
          "iopub.status.idle": "2023-12-15T05:56:59.815162Z",
          "shell.execute_reply": "2023-12-15T05:56:59.814205Z"
        },
        "papermill": {
          "duration": 1.146325,
          "end_time": "2023-12-15T05:56:59.817361",
          "exception": false,
          "start_time": "2023-12-15T05:56:58.671036",
          "status": "completed"
        },
        "tags": [],
        "id": "e489657f",
        "outputId": "9813db11-c26a-4a23-ebce-46bd407d845a"
      },
      "outputs": [
        {
          "data": {
            "text/plain": [
              "<Axes: xlabel='count', ylabel='target'>"
            ]
          },
          "execution_count": 22,
          "metadata": {},
          "output_type": "execute_result"
        },
        {
          "data": {
            "image/png": "[encoded data removed]",
            "text/plain": [
              "<Figure size 640x480 with 1 Axes>"
            ]
          },
          "metadata": {},
          "output_type": "display_data"
        }
      ],
      "source": [
        "def binarize_target(loan_status):\n",
        "    cat_0_words = [\"paid\", \"current\"]\n",
        "    cat_1_words = [\"charged off\", \"late\", \"default\", \"grace period\"]\n",
        "    for word in cat_0_words:\n",
        "        if loan_status.lower().find(word)!=-1: return 0\n",
        "    for word in cat_1_words:\n",
        "        if loan_status.lower().find(word)!=-1: return 1\n",
        "    return -1\n",
        "\n",
        "data[\"target\"] = data[\"loan_status\"].apply(binarize_target)\n",
        "data = data[data[\"target\"]!=-1]\n",
        "sns.countplot(data=data, y=\"target\")"
      ]
    },
    {
      "cell_type": "markdown",
      "id": "187641b4",
      "metadata": {
        "papermill": {
          "duration": 0.009031,
          "end_time": "2023-12-15T05:56:59.836073",
          "exception": false,
          "start_time": "2023-12-15T05:56:59.827042",
          "status": "completed"
        },
        "tags": [],
        "id": "187641b4"
      },
      "source": [
        "### Moleding"
      ]
    },
    {
      "cell_type": "code",
      "execution_count": null,
      "id": "5620c880",
      "metadata": {
        "execution": {
          "iopub.execute_input": "2023-12-15T05:56:59.856423Z",
          "iopub.status.busy": "2023-12-15T05:56:59.856088Z",
          "iopub.status.idle": "2023-12-15T06:01:53.565949Z",
          "shell.execute_reply": "2023-12-15T06:01:53.564202Z"
        },
        "papermill": {
          "duration": 293.732514,
          "end_time": "2023-12-15T06:01:53.577896",
          "exception": false,
          "start_time": "2023-12-15T05:56:59.845382",
          "status": "completed"
        },
        "tags": [],
        "id": "5620c880",
        "outputId": "d9516330-2edc-4596-cc54-507ee1083b08"
      },
      "outputs": [
        {
          "data": {
            "text/html": [
              "<style>#sk-container-id-1 {color: black;background-color: white;}#sk-container-id-1 pre{padding: 0;}#sk-container-id-1 div.sk-toggleable {background-color: white;}#sk-container-id-1 label.sk-toggleable__label {cursor: pointer;display: block;width: 100%;margin-bottom: 0;padding: 0.3em;box-sizing: border-box;text-align: center;}#sk-container-id-1 label.sk-toggleable__label-arrow:before {content: \"▸\";float: left;margin-right: 0.25em;color: #696969;}#sk-container-id-1 label.sk-toggleable__label-arrow:hover:before {color: black;}#sk-container-id-1 div.sk-estimator:hover label.sk-toggleable__label-arrow:before {color: black;}#sk-container-id-1 div.sk-toggleable__content {max-height: 0;max-width: 0;overflow: hidden;text-align: left;background-color: #f0f8ff;}#sk-container-id-1 div.sk-toggleable__content pre {margin: 0.2em;color: black;border-radius: 0.25em;background-color: #f0f8ff;}#sk-container-id-1 input.sk-toggleable__control:checked~div.sk-toggleable__content {max-height: 200px;max-width: 100%;overflow: auto;}#sk-container-id-1 input.sk-toggleable__control:checked~label.sk-toggleable__label-arrow:before {content: \"▾\";}#sk-container-id-1 div.sk-estimator input.sk-toggleable__control:checked~label.sk-toggleable__label {background-color: #d4ebff;}#sk-container-id-1 div.sk-label input.sk-toggleable__control:checked~label.sk-toggleable__label {background-color: #d4ebff;}#sk-container-id-1 input.sk-hidden--visually {border: 0;clip: rect(1px 1px 1px 1px);clip: rect(1px, 1px, 1px, 1px);height: 1px;margin: -1px;overflow: hidden;padding: 0;position: absolute;width: 1px;}#sk-container-id-1 div.sk-estimator {font-family: monospace;background-color: #f0f8ff;border: 1px dotted black;border-radius: 0.25em;box-sizing: border-box;margin-bottom: 0.5em;}#sk-container-id-1 div.sk-estimator:hover {background-color: #d4ebff;}#sk-container-id-1 div.sk-parallel-item::after {content: \"\";width: 100%;border-bottom: 1px solid gray;flex-grow: 1;}#sk-container-id-1 div.sk-label:hover label.sk-toggleable__label {background-color: #d4ebff;}#sk-container-id-1 div.sk-serial::before {content: \"\";position: absolute;border-left: 1px solid gray;box-sizing: border-box;top: 0;bottom: 0;left: 50%;z-index: 0;}#sk-container-id-1 div.sk-serial {display: flex;flex-direction: column;align-items: center;background-color: white;padding-right: 0.2em;padding-left: 0.2em;position: relative;}#sk-container-id-1 div.sk-item {position: relative;z-index: 1;}#sk-container-id-1 div.sk-parallel {display: flex;align-items: stretch;justify-content: center;background-color: white;position: relative;}#sk-container-id-1 div.sk-item::before, #sk-container-id-1 div.sk-parallel-item::before {content: \"\";position: absolute;border-left: 1px solid gray;box-sizing: border-box;top: 0;bottom: 0;left: 50%;z-index: -1;}#sk-container-id-1 div.sk-parallel-item {display: flex;flex-direction: column;z-index: 1;position: relative;background-color: white;}#sk-container-id-1 div.sk-parallel-item:first-child::after {align-self: flex-end;width: 50%;}#sk-container-id-1 div.sk-parallel-item:last-child::after {align-self: flex-start;width: 50%;}#sk-container-id-1 div.sk-parallel-item:only-child::after {width: 0;}#sk-container-id-1 div.sk-dashed-wrapped {border: 1px dashed gray;margin: 0 0.4em 0.5em 0.4em;box-sizing: border-box;padding-bottom: 0.4em;background-color: white;}#sk-container-id-1 div.sk-label label {font-family: monospace;font-weight: bold;display: inline-block;line-height: 1.2em;}#sk-container-id-1 div.sk-label-container {text-align: center;}#sk-container-id-1 div.sk-container {/* jupyter's `normalize.less` sets `[hidden] { display: none; }` but bootstrap.min.css set `[hidden] { display: none !important; }` so we also need the `!important` here to be able to override the default hidden behavior on the sphinx rendered scikit-learn.org. See: https://github.com/scikit-learn/scikit-learn/issues/21755 */display: inline-block !important;position: relative;}#sk-container-id-1 div.sk-text-repr-fallback {display: none;}</style><div id=\"sk-container-id-1\" class=\"sk-top-container\"><div class=\"sk-text-repr-fallback\"><pre>RandomForestClassifier(class_weight=&#x27;balanced&#x27;, max_depth=5, n_estimators=500,\n",
              "                       n_jobs=-1, random_state=131543)</pre><b>In a Jupyter environment, please rerun this cell to show the HTML representation or trust the notebook. <br />On GitHub, the HTML representation is unable to render, please try loading this page with nbviewer.org.</b></div><div class=\"sk-container\" hidden><div class=\"sk-item\"><div class=\"sk-estimator sk-toggleable\"><input class=\"sk-toggleable__control sk-hidden--visually\" id=\"sk-estimator-id-1\" type=\"checkbox\" checked><label for=\"sk-estimator-id-1\" class=\"sk-toggleable__label sk-toggleable__label-arrow\">RandomForestClassifier</label><div class=\"sk-toggleable__content\"><pre>RandomForestClassifier(class_weight=&#x27;balanced&#x27;, max_depth=5, n_estimators=500,\n",
              "                       n_jobs=-1, random_state=131543)</pre></div></div></div></div></div>"
            ],
            "text/plain": [
              "RandomForestClassifier(class_weight='balanced', max_depth=5, n_estimators=500,\n",
              "                       n_jobs=-1, random_state=131543)"
            ]
          },
          "execution_count": 23,
          "metadata": {},
          "output_type": "execute_result"
        }
      ],
      "source": [
        "from sklearn.ensemble import RandomForestClassifier\n",
        "from sklearn.model_selection import train_test_split\n",
        "\n",
        "X = data.drop(columns=[\"loan_status\", \"target\"])\n",
        "y = data[[\"target\"]]\n",
        "\n",
        "X_train, X_test, y_train, y_test = train_test_split(X, y, test_size=0.2, random_state=131543)\n",
        "\n",
        "rf = RandomForestClassifier(\n",
        "    n_estimators=500,\n",
        "    criterion='gini',\n",
        "    max_depth=5,\n",
        "    min_samples_split=2,\n",
        "    min_samples_leaf=1,\n",
        "    max_leaf_nodes=None,\n",
        "    bootstrap=True,\n",
        "    oob_score=False,\n",
        "    random_state=131543,\n",
        "    n_jobs=-1,\n",
        "    warm_start=False,\n",
        "    class_weight=\"balanced\"\n",
        ")\n",
        "\n",
        "rf.fit(X_train, y_train.values.ravel())"
      ]
    },
    {
      "cell_type": "code",
      "execution_count": null,
      "id": "58670c5f",
      "metadata": {
        "execution": {
          "iopub.execute_input": "2023-12-15T06:01:53.600854Z",
          "iopub.status.busy": "2023-12-15T06:01:53.600504Z",
          "iopub.status.idle": "2023-12-15T06:02:03.103342Z",
          "shell.execute_reply": "2023-12-15T06:02:03.101825Z"
        },
        "papermill": {
          "duration": 9.518022,
          "end_time": "2023-12-15T06:02:03.106215",
          "exception": false,
          "start_time": "2023-12-15T06:01:53.588193",
          "status": "completed"
        },
        "tags": [],
        "id": "58670c5f",
        "outputId": "ab51f93e-40cc-4ae6-909a-bf39703a9f00"
      },
      "outputs": [
        {
          "name": "stdout",
          "output_type": "stream",
          "text": [
            "Accuracy:  0.910151094525099\n",
            "Precision:  0.45844514153974075\n",
            "Recall:  0.8922397940419272\n",
            "F1-score:  0.6056823288560443\n",
            "ROC AUC:  0.9019461244469912\n"
          ]
        }
      ],
      "source": [
        "from sklearn.metrics import accuracy_score, precision_score, recall_score, f1_score, roc_auc_score\n",
        "print(\"Accuracy: \", accuracy_score(y_test, rf.predict(X_test)))\n",
        "print(\"Precision: \", precision_score(y_test, rf.predict(X_test)))\n",
        "print(\"Recall: \", recall_score(y_test, rf.predict(X_test)))\n",
        "print(\"F1-score: \", f1_score(y_test, rf.predict(X_test)))\n",
        "print(\"ROC AUC: \", roc_auc_score(y_test, rf.predict(X_test)))"
      ]
    }
  ],
  "metadata": {
    "kaggle": {
      "accelerator": "none",
      "dataSources": [
        {
          "datasetId": 1404394,
          "sourceId": 2327131,
          "sourceType": "datasetVersion"
        }
      ],
      "dockerImageVersionId": 30626,
      "isGpuEnabled": false,
      "isInternetEnabled": true,
      "language": "python",
      "sourceType": "notebook"
    },
    "kernelspec": {
      "display_name": "Python 3",
      "language": "python",
      "name": "python3"
    },
    "language_info": {
      "codemirror_mode": {
        "name": "ipython",
        "version": 3
      },
      "file_extension": ".py",
      "mimetype": "text/x-python",
      "name": "python",
      "nbconvert_exporter": "python",
      "pygments_lexer": "ipython3",
      "version": "3.10.12"
    },
    "papermill": {
      "default_parameters": {},
      "duration": 361.654753,
      "end_time": "2023-12-15T06:02:03.960357",
      "environment_variables": {},
      "exception": null,
      "input_path": "__notebook__.ipynb",
      "output_path": "__notebook__.ipynb",
      "parameters": {},
      "start_time": "2023-12-15T05:56:02.305604",
      "version": "2.4.0"
    },
    "vscode": {
      "interpreter": {
        "hash": "aceb42324b75a9bf78b98aa7346e5d8eff0fa8897468a0dab84ef13509829773"
      }
    },
    "colab": {
      "provenance": [],
      "include_colab_link": true
    }
  },
  "nbformat": 4,
  "nbformat_minor": 5
}