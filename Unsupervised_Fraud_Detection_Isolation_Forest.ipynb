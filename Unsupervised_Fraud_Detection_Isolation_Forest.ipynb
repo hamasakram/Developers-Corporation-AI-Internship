{
  "cells": [
    {
      "cell_type": "markdown",
      "metadata": {
        "id": "view-in-github",
        "colab_type": "text"
      },
      "source": [
        "<a href=\"https://colab.research.google.com/github/hamasakram/Developers-Corporation-AI-Internship/blob/main/Unsupervised_Fraud_Detection_Isolation_Forest.ipynb\" target=\"_parent\"><img src=\"https://colab.research.google.com/assets/colab-badge.svg\" alt=\"Open In Colab\"/></a>"
      ]
    },
    {
      "metadata": {
        "_uuid": "8f2839f25d086af736a60e9eeb907d3b93b6e0e5",
        "_cell_guid": "b1076dfc-b9ad-4769-8c92-a6c4dae69d19",
        "trusted": true,
        "id": "RMjt2gHpDowV"
      },
      "cell_type": "code",
      "source": [
        "##All General Import Statements\n",
        "import pandas as pd\n",
        "import numpy as np\n",
        "import math\n",
        "import random\n",
        "%matplotlib inline\n",
        "import random\n",
        "from matplotlib import pyplot\n",
        "import os\n"
      ],
      "execution_count": 9,
      "outputs": []
    },
    {
      "metadata": {
        "_uuid": "d629ff2d2480ee46fbb7e2d37f6b5fab8052498a",
        "_cell_guid": "79c7e3d0-c299-4dcb-8224-4455121ee9b0",
        "collapsed": true,
        "id": "lJMhOpzpDowX"
      },
      "cell_type": "markdown",
      "source": [
        "# Anomaly Detection Algorithms: Isolation Forest vs the Rest"
      ]
    },
    {
      "metadata": {
        "_uuid": "b5a26893df3e789db52f414c3bd9ad0a33192174",
        "_cell_guid": "51597ace-db1c-4bb6-bfcc-ef80888318ae",
        "id": "N10_eXT6Dowa"
      },
      "cell_type": "markdown",
      "source": [
        "<p>This notebook shows a simplified implementation of the algorithm Isolation Forest and compares its Scikit-learn implementation with other popular anomaly detection algorithms. (KMeans, Local Outlier Factor, One-Class SVM)</p>\n",
        "\n",
        "<p>In a real world scenario, an unsupervised model is used primarily as a seed to create labelled data unless risk rules based on domain knowledge can be formulated for the problem. For example, if the problem is to identify anomalies in network traffic metrics such as time between logins and distance between origins can be used to formulate a risk rule. Anomalous logins obtained by applying this rule must then be audited to come up with their true labels. On the other hand take the case of identifying the probability of an employee  committing securities fraud. Here the behavioral data that the organization captures is very high dimensional and the relationship between the data points is complex. Hence without indepth domain knowledge, formulating risk rules is difficult.  This combined with issues such as confidentiality makes it very hard to validate these risk rules.</p>\n",
        "\n",
        "<p>This is where unsupervised learning shines. With very little domain knowledge, a simple unsupervised algorithm can be used to create a list of anomalies which can then be fed into an auditing process which then generates the true labels. Over time when enough data labels are created, the unsupervised problem can be reformulated as a supervised ML problem.</p>\n",
        "\n",
        "<p>Since this notebook aims to compare various unsupervised algorithms with each other their actual performance needs to be validated. For this I use a labelled dataset. But the algorithms do not see the labels while training. The labels are only used to compare the model predictions to the actual values and to create performance metrics.</p>"
      ]
    },
    {
      "metadata": {
        "_uuid": "5eb32b0426d5808a32cae7715b93782bc56cbf3c",
        "_cell_guid": "0a6767c4-59bf-424a-b528-5f23f7c77e05",
        "id": "SR4qKPoHDowc"
      },
      "cell_type": "markdown",
      "source": [
        "## Isolation Forests in Python"
      ]
    },
    {
      "metadata": {
        "_uuid": "b0d953c2647f835df03f2277b733505227a1419e",
        "_cell_guid": "57188d78-4ec3-4252-845d-4da4753712ad",
        "id": "5CS9nRYIDowe"
      },
      "cell_type": "markdown",
      "source": [
        "The Algorithm has 3 parts:\n",
        "    1. Forest\n",
        "    2. Isolation Tree\n",
        "    3. Evaluation (Path Length)"
      ]
    },
    {
      "metadata": {
        "_uuid": "5e706fb54f2082cc2a06dc21fee0f10e75f4cc46",
        "_cell_guid": "5401b624-f184-4c3e-92ee-03a575f860e3",
        "id": "3JPs9fsZDowg"
      },
      "cell_type": "markdown",
      "source": [
        "### Common Classes"
      ]
    },
    {
      "metadata": {
        "_uuid": "5cdf80e854ba266938d7c06c2fd46734806932e4",
        "_cell_guid": "fb6bebee-78d7-4fb8-8e23-6afddd9bcd18",
        "id": "IzhLqDigDowi"
      },
      "cell_type": "markdown",
      "source": [
        "The below code defines classes for external and internal nodes"
      ]
    },
    {
      "metadata": {
        "_uuid": "3b6b1a66a377870f9b23a12538a192d28a5044bc",
        "_cell_guid": "c503afb8-44ce-4fd7-b982-05c96686bce8",
        "trusted": true,
        "id": "vmF3eQkUDowj"
      },
      "cell_type": "code",
      "source": [
        "class ExNode:\n",
        "    def __init__(self,size):\n",
        "        self.size=size\n",
        "\n",
        "class InNode:\n",
        "    def __init__(self,left,right,splitAtt,splitVal):\n",
        "        self.left=left\n",
        "        self.right=right\n",
        "        self.splitAtt=splitAtt\n",
        "        self.splitVal=splitVal"
      ],
      "execution_count": 10,
      "outputs": []
    },
    {
      "metadata": {
        "_uuid": "744502f951d596db83cf82ffec2cbc898ecc5885",
        "_cell_guid": "48ed0823-f2cc-4ff5-9d4b-43701552416c",
        "id": "7rmz6FKkDowl"
      },
      "cell_type": "markdown",
      "source": [
        "### Forest"
      ]
    },
    {
      "metadata": {
        "_uuid": "295b36c553de744afc226263850037290b49ab92",
        "_cell_guid": "6adf9ec9-a156-4aa9-a75d-bc441df999a5",
        "trusted": true,
        "id": "DKqG_hQ9Dowm"
      },
      "cell_type": "code",
      "source": [
        "def iForest(X,noOfTrees,sampleSize):\n",
        "    forest=[]\n",
        "    hlim=math.ceil(math.log(sampleSize,2))\n",
        "    for i in range(noOfTrees):\n",
        "        X_train=X.sample(sampleSize)\n",
        "        forest.append(iTree(X_train,0,hlim))\n",
        "    return forest"
      ],
      "execution_count": 11,
      "outputs": []
    },
    {
      "metadata": {
        "_uuid": "433bd340e2dbb1bca6d3f75695da9896f4fdb566",
        "_cell_guid": "ea1015ac-1966-4f7d-8bd7-d6949e29d70c",
        "id": "VStIcgnbDown"
      },
      "cell_type": "markdown",
      "source": [
        "### Isolation Tree"
      ]
    },
    {
      "metadata": {
        "_uuid": "8fa24a94ee6e5cd622bcbb22ae107561007d9901",
        "_cell_guid": "2f4386ae-2a4d-46e9-bb21-de82960af35e",
        "trusted": true,
        "id": "d4BZtV1eDowo"
      },
      "cell_type": "code",
      "source": [
        "def iTree(X,currHeight,hlim):\n",
        "    if currHeight>=hlim or len(X)<=1:\n",
        "        return ExNode(len(X))\n",
        "    else:\n",
        "        Q=X.columns\n",
        "        q=random.choice(Q)\n",
        "        p=random.choice(X[q].unique())\n",
        "        X_l=X[X[q]<p]\n",
        "        X_r=X[X[q]>=p]\n",
        "        return InNode(iTree(X_l,currHeight+1,hlim),iTree(X_r,currHeight+1,hlim),q,p)"
      ],
      "execution_count": 12,
      "outputs": []
    },
    {
      "metadata": {
        "_uuid": "f24f67fe0c9812c46fd06c00ed2c2c8e2c46f081",
        "_cell_guid": "779246a7-781a-4edd-a07f-4cd96f58cfa2",
        "id": "-G72rwsgDowp"
      },
      "cell_type": "markdown",
      "source": [
        "### Path Length"
      ]
    },
    {
      "metadata": {
        "_uuid": "f6b4b6bdc56c1a9828ff98eb806c5e1fa1ba8761",
        "_cell_guid": "d9bccec2-af04-4b0c-b0c1-43ea396ec8d5",
        "trusted": true,
        "id": "Mpos-XE_Dowq"
      },
      "cell_type": "code",
      "source": [
        "def pathLength(x,Tree,currHeight):\n",
        "    if isinstance(Tree,ExNode):\n",
        "        return currHeight\n",
        "    a=Tree.splitAtt\n",
        "    if x[a]<Tree.splitVal:\n",
        "        return pathLength(x,Tree.left,currHeight+1)\n",
        "    else:\n",
        "        return pathLength(x,Tree.right,currHeight+1)"
      ],
      "execution_count": 13,
      "outputs": []
    },
    {
      "metadata": {
        "_uuid": "d6712ff6e9a54257ef804264543c5eedbf19aba5",
        "_cell_guid": "f58277de-5872-48ed-8b1a-1b693f66e6d6",
        "id": "V52vUxEuDowq"
      },
      "cell_type": "markdown",
      "source": [
        "## Test Run"
      ]
    },
    {
      "metadata": {
        "_uuid": "56b9b449b538a6dd60f5f6d0b3688da65e832942",
        "_cell_guid": "1885322a-6620-4694-89b1-861fc671c126",
        "id": "F2bEaIsMDowq"
      },
      "cell_type": "markdown",
      "source": [
        "Let us now test the algorithm on a test dataset.\n",
        "Source: https://www.kaggle.com/dalpozz/creditcardfraud"
      ]
    },
    {
      "metadata": {
        "_uuid": "5a295f6d45be752095da313c704a7b0b8734b6bc",
        "_cell_guid": "b4d647aa-fdd5-4e78-914d-715a8e2579c0",
        "trusted": true,
        "id": "CKtiAklZDowr"
      },
      "cell_type": "code",
      "source": [
        "df=pd.read_csv(\"creditcard.csv\")\n",
        "y_true=df['Class']\n",
        "df_data=df.drop('Class',axis=1)"
      ],
      "execution_count": 16,
      "outputs": []
    },
    {
      "metadata": {
        "_uuid": "2183258a5cbcddd1963d6c4bfeb647315046bc1e",
        "_cell_guid": "52ad61e8-e7d4-4149-84cc-b6d87278485e",
        "id": "gVOXWY7MDowr"
      },
      "cell_type": "markdown",
      "source": [
        "Next, we create the forest."
      ]
    },
    {
      "metadata": {
        "_uuid": "5840afc723acd274db093f7d4d13a6a098326ea0",
        "_cell_guid": "29be2a8e-6df4-46aa-82b8-8486e6141bdd",
        "trusted": true,
        "id": "ZIwRZTIUDows"
      },
      "cell_type": "code",
      "source": [
        "sampleSize = 10000\n",
        "ifor = iForest(df_data.sample(100000, replace=True), 10, sampleSize)  # Forest of 10 trees\n"
      ],
      "execution_count": 18,
      "outputs": []
    },
    {
      "metadata": {
        "_uuid": "46b8d7b1ed8b33cf787c4d250af91f83270e06fb",
        "_cell_guid": "7b1a7da5-a277-4781-b184-61fdb842f8c7",
        "id": "jcNUh5xwDowt"
      },
      "cell_type": "markdown",
      "source": [
        "Next, we select 1000 random datapoints and get their path lengths. The purpose for this is to plot and see if anomalies actually have shorter path lengths."
      ]
    },
    {
      "metadata": {
        "_uuid": "51dc6a3b53c6f3fd55a8b5da01fa6d8a44f229cd",
        "_cell_guid": "898af762-2a51-4f1e-a8c6-4d7d01e67fc9",
        "trusted": true,
        "id": "9SvMpSbwDowu"
      },
      "cell_type": "code",
      "source": [
        "posLenLst=[]\n",
        "negLenLst=[]\n",
        "\n",
        "for sim in range(1000):\n",
        "    ind=random.choice(df_data[y_true==1].index)\n",
        "    for tree in ifor:\n",
        "        posLenLst.append(pathLength(df_data.iloc[ind],tree,0))\n",
        "\n",
        "    ind=random.choice(df_data[y_true==0].index)\n",
        "    for tree in ifor:\n",
        "        negLenLst.append(pathLength(df_data.iloc[ind],tree,0))"
      ],
      "execution_count": 19,
      "outputs": []
    },
    {
      "metadata": {
        "_uuid": "16556fb64b274e15b98b42a300f9b50444bd4019",
        "_cell_guid": "0c8a7daa-c64f-4310-9f6c-86e12820fa98",
        "id": "n2jyH59uDoww"
      },
      "cell_type": "markdown",
      "source": [
        "Finally, we plot the path lengths."
      ]
    },
    {
      "metadata": {
        "_uuid": "8b75a0f90c32773dc3a5e790f1faab54c5a75e66",
        "_cell_guid": "b13a17f9-9f11-4701-89a5-6323416d932a",
        "trusted": true,
        "colab": {
          "base_uri": "https://localhost:8080/",
          "height": 713
        },
        "id": "JHrv_k6gDowx",
        "outputId": "7afee75a-755e-4316-a30e-c6eb898b91d3"
      },
      "cell_type": "code",
      "source": [
        "bins = np.linspace(0,math.ceil(math.log(sampleSize,2)), math.ceil(math.log(sampleSize,2)))\n",
        "\n",
        "pyplot.figure(figsize=(12,8))\n",
        "pyplot.hist(posLenLst, bins, alpha=0.5, label='Anomaly')\n",
        "pyplot.hist(negLenLst, bins, alpha=0.5, label='Normal')\n",
        "pyplot.xlabel('Path Length')\n",
        "pyplot.ylabel('Frequency')\n",
        "pyplot.legend(loc='upper left')"
      ],
      "execution_count": 20,
      "outputs": [
        {
          "output_type": "execute_result",
          "data": {
            "text/plain": [
              "<matplotlib.legend.Legend at 0x7f31d00b22d0>"
            ]
          },
          "metadata": {},
          "execution_count": 20
        },
        {
          "output_type": "display_data",
          "data": {
            "text/plain": [
              "<Figure size 1200x800 with 1 Axes>"
            ],
            "image/png": "[encoded data removed]"
          },
          "metadata": {}
        }
      ]
    },
    {
      "metadata": {
        "_uuid": "2e9879d52665b6667c994860c25068d76b1f7866",
        "_cell_guid": "44bc52cc-ee4e-457f-b2a2-9e3e9f9f288f",
        "id": "3ZSKO40lDowz"
      },
      "cell_type": "markdown",
      "source": [
        "Anomalies do seem to have a lower path length. Not bad for random division!"
      ]
    },
    {
      "metadata": {
        "_uuid": "e9620b249c239fa93f6a262b29663a332f9cf1d6",
        "_cell_guid": "475a106d-ab55-4321-bdc9-6dd3dd9389bd",
        "id": "Veulk2Z-Dow1"
      },
      "cell_type": "markdown",
      "source": [
        "#### Notes:"
      ]
    },
    {
      "metadata": {
        "_uuid": "d299377f28833af98507c7b4f2e3482f20bde462",
        "_cell_guid": "38d5a51d-5462-474a-bd0f-3275c698a5b5",
        "id": "-wxGHSIWDow1"
      },
      "cell_type": "markdown",
      "source": [
        "The above implementation ignores three aspects of the actual algorithm fo the sake of simplicity.\n",
        "1. The average depth needs to be added to the depth once the current length hits the height limit\n",
        "2. The path lengths are not normalized between trees and hence the actual values are used for plotting\n",
        "3. The authors of the paper suggest using kurtosis to select features as a refinement over random selection"
      ]
    },
    {
      "metadata": {
        "_uuid": "3b18dd45c14398a0afa398bf5150291ff54ae1e4",
        "_cell_guid": "f9fa6258-9b16-4dd2-b1c7-0b98ed4086ea",
        "id": "qQGLTSpRDow2"
      },
      "cell_type": "markdown",
      "source": [
        "## Plotting the Data"
      ]
    },
    {
      "metadata": {
        "_uuid": "6f1a665571985cd3f59e47fbdeb1d93032b21700",
        "_cell_guid": "c163e219-0be5-45db-bb42-3af9152f150c",
        "id": "klOS_1__Dow3"
      },
      "cell_type": "markdown",
      "source": [
        "Using a technique called T-SNE, we can reduce the dimensions of the data and create a 2D plot. The objective here is to show that distance based anomaly detection methods might not work as well as other techniques on this dataset. This is because the positive cases are not too far away from the normal cases."
      ]
    },
    {
      "metadata": {
        "_uuid": "10f5bd53b17b9008d454452aa1c75291ba760b1c",
        "_cell_guid": "f4e3169d-9c2c-4bcb-a6e2-8aeb0c729914",
        "trusted": true,
        "id": "s9Gz4UsfDow3"
      },
      "cell_type": "code",
      "source": [
        "from sklearn.manifold import TSNE"
      ],
      "execution_count": 21,
      "outputs": []
    },
    {
      "metadata": {
        "_uuid": "bdab542bfaa77c188698abd80050f7e9ddf6f25c",
        "_cell_guid": "49a5e240-c364-428e-8e97-8d5b3442c133",
        "trusted": true,
        "id": "4LFZxWHTDow4"
      },
      "cell_type": "code",
      "source": [
        "df_plt=df[df['Class']==0].sample(1000)\n",
        "df_plt_pos=df[df['Class']==1].sample(20)\n",
        "df_plt=pd.concat([df_plt,df_plt_pos])\n",
        "y_plt=df_plt['Class']\n",
        "X_plt=df_plt.drop('Class',axis=1)"
      ],
      "execution_count": 24,
      "outputs": []
    },
    {
      "metadata": {
        "_uuid": "9639620a9989dcc39e7cf7e25d71cb24b70912bc",
        "_cell_guid": "99a3d29b-2a61-4a56-91c6-803757498543",
        "trusted": true,
        "id": "ujiZQCfYDow6"
      },
      "cell_type": "code",
      "source": [
        "X_embedded = TSNE(n_components=2).fit_transform(X_plt)"
      ],
      "execution_count": 25,
      "outputs": []
    },
    {
      "metadata": {
        "_uuid": "8e6823f7560b1a4e72d7271d350f2f5a47f4ac43",
        "_cell_guid": "09ef66ac-6bd9-4f14-b18c-c5d4294af071",
        "trusted": true,
        "colab": {
          "base_uri": "https://localhost:8080/",
          "height": 754
        },
        "id": "u9A747I2Dow6",
        "outputId": "19c5c1ee-b513-4704-9aba-ca50d5377ab1"
      },
      "cell_type": "code",
      "source": [
        "pyplot.figure(figsize=(12,8))\n",
        "pyplot.scatter(X_embedded[:,0], X_embedded[:,1], c=y_plt, cmap=pyplot.cm.get_cmap(\"Paired\", 2))\n",
        "pyplot.colorbar(ticks=range(2))"
      ],
      "execution_count": 26,
      "outputs": [
        {
          "output_type": "stream",
          "name": "stderr",
          "text": [
            "<ipython-input-26-639996d80a37>:2: MatplotlibDeprecationWarning: The get_cmap function was deprecated in Matplotlib 3.7 and will be removed in 3.11. Use ``matplotlib.colormaps[name]`` or ``matplotlib.colormaps.get_cmap()`` or ``pyplot.get_cmap()`` instead.\n",
            "  pyplot.scatter(X_embedded[:,0], X_embedded[:,1], c=y_plt, cmap=pyplot.cm.get_cmap(\"Paired\", 2))\n"
          ]
        },
        {
          "output_type": "execute_result",
          "data": {
            "text/plain": [
              "<matplotlib.colorbar.Colorbar at 0x7f31c3355f50>"
            ]
          },
          "metadata": {},
          "execution_count": 26
        },
        {
          "output_type": "display_data",
          "data": {
            "text/plain": [
              "<Figure size 1200x800 with 2 Axes>"
            ],
            "image/png": "[encoded data removed]"
          },
          "metadata": {}
        }
      ]
    },
    {
      "metadata": {
        "_uuid": "a6450f3c3f844d5e8846e133e1b1591adb5dd831",
        "_cell_guid": "6c66d785-5527-4f48-bfcb-76f644bbde9d",
        "id": "j9-2K97gDow7"
      },
      "cell_type": "markdown",
      "source": [
        "## Time for the Real Fight!"
      ]
    },
    {
      "metadata": {
        "_uuid": "eba4bbaa3dda1577c5797783d28ab24202d2fd62",
        "_cell_guid": "ed41c041-92c2-4475-a613-d06f48b43d57",
        "id": "heSMTTfsDow8"
      },
      "cell_type": "markdown",
      "source": [
        "To keep things even, all of the algorithms are run with their default parameters."
      ]
    },
    {
      "metadata": {
        "_uuid": "f20b14f5b5426ad31ecacd61a794b426e2351ff0",
        "_cell_guid": "38ccdecd-6cc5-4d9e-b61f-0cf6a9f4fae3",
        "id": "nz8KRMhTDow9"
      },
      "cell_type": "markdown",
      "source": [
        "Let's start by importing the scikit-learn implementations of all 4 algorithms."
      ]
    },
    {
      "metadata": {
        "_uuid": "55a22d68269bdcd7d251291544952f5358a1d936",
        "_cell_guid": "0da2ef65-865a-46d1-bba3-085eaa4ebe0d",
        "trusted": true,
        "id": "_E9mMPtaDow9"
      },
      "cell_type": "code",
      "source": [
        "from sklearn.ensemble import IsolationForest\n",
        "from sklearn.svm import OneClassSVM\n",
        "from sklearn.neighbors import LocalOutlierFactor ## Only available with scikit-learn 0.19 and later\n",
        "from sklearn.cluster import KMeans"
      ],
      "execution_count": 27,
      "outputs": []
    },
    {
      "metadata": {
        "_uuid": "5605915d2edb758623cbf4e8f907d8170ee38889",
        "_cell_guid": "1dd4c391-2656-4746-8f92-1d713b44492a",
        "id": "MqCjMQVdDow-"
      },
      "cell_type": "markdown",
      "source": [
        "Next, let's create a train and test dataset."
      ]
    },
    {
      "metadata": {
        "_uuid": "9f5aa9ec82465700c9b9f2ca1305e7408d88a121",
        "_cell_guid": "ec02afde-f1f4-4ea8-98e9-5dcc35c9b510",
        "trusted": true,
        "id": "IrKWnnrkDow_"
      },
      "cell_type": "code",
      "source": [
        "from sklearn.model_selection import train_test_split"
      ],
      "execution_count": 28,
      "outputs": []
    },
    {
      "metadata": {
        "_uuid": "0965b21b9059d99cfd4c2461d6ed3cc63de261c0",
        "_cell_guid": "c51cbb06-aa24-4454-83ca-c42d3a5aa557",
        "trusted": true,
        "id": "NsdUdNKDDoxW"
      },
      "cell_type": "code",
      "source": [
        "X_train, X_test, y_train, y_test = train_test_split(df_data, y_true, test_size=0.3, random_state=42)"
      ],
      "execution_count": 29,
      "outputs": []
    },
    {
      "metadata": {
        "_uuid": "4565902b66a86eba31a7b09bbd90db68e2923cca",
        "_cell_guid": "c7b61f65-46ba-411a-942d-cfff8a1e290b",
        "trusted": true,
        "id": "bMO4dGAQDoxZ"
      },
      "cell_type": "code",
      "source": [
        "def train(X,clf,ensembleSize=5,sampleSize=10000):\n",
        "    mdlLst=[]\n",
        "    for n in range(ensembleSize):\n",
        "        X=df_data.sample(sampleSize)\n",
        "        clf.fit(X)\n",
        "        mdlLst.append(clf)\n",
        "    return mdlLst"
      ],
      "execution_count": 30,
      "outputs": []
    },
    {
      "metadata": {
        "_uuid": "44981a687f2768724c9b7b29453371ffa2bab9b2",
        "_cell_guid": "abc7a7b9-f8d2-466e-9b3e-f9d0ef611200",
        "trusted": true,
        "id": "u0DZ6MFRDoxZ"
      },
      "cell_type": "code",
      "source": [
        "def predict(X,mdlLst):\n",
        "    y_pred=np.zeros(X.shape[0])\n",
        "    for clf in mdlLst:\n",
        "        y_pred=np.add(y_pred,clf.decision_function(X).reshape(X.shape[0],))\n",
        "    y_pred=(y_pred*1.0)/len(mdlLst)\n",
        "    return y_pred"
      ],
      "execution_count": 31,
      "outputs": []
    },
    {
      "metadata": {
        "_uuid": "33c0fde1de4e87e2a73013396a61fc3b2f388264",
        "_cell_guid": "787615be-6c75-4b33-bfe6-213bbc187d41",
        "id": "dUwC8ZWDDoxa"
      },
      "cell_type": "markdown",
      "source": [
        "Finally, let's import some model scoring libraries. Since, we are dealing with a heavily imbalanced dataset, F1 Score is used as a proxy for model performance."
      ]
    },
    {
      "metadata": {
        "_uuid": "0736222c027239385a3a7f96d3aa4694427c5cc8",
        "_cell_guid": "82252a18-242d-4d19-b9d7-b9d768ebf9d2",
        "id": "4zRai0zCDoxb"
      },
      "cell_type": "markdown",
      "source": [
        "For more details, refer http://scikit-learn.org/stable/modules/generated/sklearn.metrics.f1_score.html"
      ]
    },
    {
      "metadata": {
        "_uuid": "40d4645e6706dc747d241f01c53a9eace10fe07b",
        "_cell_guid": "201a5d09-d206-46a0-81f9-a44452ffda32",
        "trusted": true,
        "id": "F_HbcjgiDoxb"
      },
      "cell_type": "code",
      "source": [
        "from sklearn.metrics import roc_auc_score\n",
        "from sklearn.metrics import confusion_matrix,f1_score"
      ],
      "execution_count": 32,
      "outputs": []
    },
    {
      "metadata": {
        "_uuid": "c92dbe4e580bd0526ed1d2d40dae699a389ebc55",
        "_cell_guid": "ea911ef4-f4cc-4388-bf8d-58f1fb075d38",
        "id": "swn4DO7GDoxc"
      },
      "cell_type": "markdown",
      "source": [
        "#### Isolation Forest"
      ]
    },
    {
      "metadata": {
        "_uuid": "d6edbea75777eea1556e652cb900ec8b081b217c",
        "_cell_guid": "41633412-ca55-4daa-8087-059aac9e0d27",
        "trusted": true,
        "id": "Doms3IlkDoxc"
      },
      "cell_type": "code",
      "source": [
        "from sklearn.ensemble import IsolationForest\n",
        "\n",
        "alg = IsolationForest(n_estimators=100,\n",
        "                      max_samples='auto',\n",
        "                      contamination=0.01,\n",
        "                      max_features=1.0,\n",
        "                      bootstrap=False,\n",
        "                      n_jobs=-1,\n",
        "                      random_state=42,\n",
        "                      verbose=0)\n"
      ],
      "execution_count": 34,
      "outputs": []
    },
    {
      "metadata": {
        "_uuid": "df3a2bfff2f8299018330390616d5fd23551f6ce",
        "_cell_guid": "e585ebd2-8b36-4bc4-88b4-d30194dd5c79",
        "id": "N-1p1DHHDoxd"
      },
      "cell_type": "markdown",
      "source": [
        "<b>Note:</b> The magic function timeit does not let us use any variable that is created in the timeit cell. Hence, every cell with a timeit magic function will have a corresponding regular cell with the same code."
      ]
    },
    {
      "metadata": {
        "_uuid": "3226bd047426cf5f2a915ea0e24eb35966929e62",
        "_cell_guid": "3ccb4341-a2d3-41dd-8073-a7d306cf0921",
        "trusted": true,
        "colab": {
          "base_uri": "https://localhost:8080/"
        },
        "id": "CSJF__N-Doxd",
        "outputId": "609a01ac-35c1-461e-e68c-4bb14a636553"
      },
      "cell_type": "code",
      "source": [
        "%%timeit\n",
        "if_mdlLst=train(X_train,alg)"
      ],
      "execution_count": 35,
      "outputs": [
        {
          "output_type": "stream",
          "name": "stdout",
          "text": [
            "2 s ± 729 ms per loop (mean ± std. dev. of 7 runs, 1 loop each)\n"
          ]
        }
      ]
    },
    {
      "metadata": {
        "_uuid": "7151d3fea22c71a8e68750338ec3956119a7f810",
        "_cell_guid": "66961d5a-15f3-465a-a705-a442b438ce22",
        "trusted": true,
        "id": "2JB_kMBaDoxe"
      },
      "cell_type": "code",
      "source": [
        "if_mdlLst=train(X_train,alg)"
      ],
      "execution_count": 36,
      "outputs": []
    },
    {
      "metadata": {
        "_uuid": "74a40a3f9d9a3320fa611c7f022d74d49ed02d6e",
        "_cell_guid": "7dcad90c-9f69-4e13-84ec-4ae4fa8ff0fc",
        "trusted": true,
        "colab": {
          "base_uri": "https://localhost:8080/"
        },
        "id": "ONunpS_bDoxf",
        "outputId": "e367a029-fc75-4ce0-8dfa-c4f7b1ff1cf0"
      },
      "cell_type": "code",
      "source": [
        "%%timeit\n",
        "if_y_pred=predict(X_test,if_mdlLst)\n",
        "if_y_pred=1-if_y_pred\n",
        "\n",
        "#Creating class labels based on decision function\n",
        "if_y_pred_class=if_y_pred.copy()\n",
        "if_y_pred_class[if_y_pred>=np.percentile(if_y_pred,95)]=1\n",
        "if_y_pred_class[if_y_pred<np.percentile(if_y_pred,95)]=0"
      ],
      "execution_count": 37,
      "outputs": [
        {
          "output_type": "stream",
          "name": "stdout",
          "text": [
            "497 ms ± 11.2 ms per loop (mean ± std. dev. of 7 runs, 1 loop each)\n"
          ]
        }
      ]
    },
    {
      "metadata": {
        "_uuid": "b09730e14c6bad13cf6742f809a7b9570f72c26b",
        "_cell_guid": "57b4d34d-2e2f-4fa6-8807-6ff326271e68",
        "trusted": true,
        "id": "wZygjVpMDoxg"
      },
      "cell_type": "code",
      "source": [
        "if_y_pred=predict(X_test,if_mdlLst)\n",
        "if_y_pred=1-if_y_pred\n",
        "\n",
        "#Creating class labels based on decision function\n",
        "if_y_pred_class=if_y_pred.copy()\n",
        "if_y_pred_class[if_y_pred>=np.percentile(if_y_pred,95)]=1\n",
        "if_y_pred_class[if_y_pred<np.percentile(if_y_pred,95)]=0"
      ],
      "execution_count": 38,
      "outputs": []
    },
    {
      "metadata": {
        "_uuid": "6baa55e5fa91614b6d6b6888c632389dda1b6f33",
        "_cell_guid": "66ee10bf-ecf8-4230-9465-54269a6e276a",
        "trusted": true,
        "colab": {
          "base_uri": "https://localhost:8080/"
        },
        "id": "Cdi7tGUADoxh",
        "outputId": "d1a3b26a-56d4-44cd-84b3-57bb8827f4cd"
      },
      "cell_type": "code",
      "source": [
        "roc_auc_score(y_test, if_y_pred_class)"
      ],
      "execution_count": 39,
      "outputs": [
        {
          "output_type": "execute_result",
          "data": {
            "text/plain": [
              "0.9263741249675913"
            ]
          },
          "metadata": {},
          "execution_count": 39
        }
      ]
    },
    {
      "metadata": {
        "_uuid": "45edb5aef17a1dcc0817805fc25bd4c08b8391f6",
        "_cell_guid": "9c226f2f-b03d-4efd-a7d1-9ae2aaca260b",
        "trusted": true,
        "colab": {
          "base_uri": "https://localhost:8080/"
        },
        "id": "Qj_8VsCGDoxj",
        "outputId": "96af5b4b-9ca8-4e0d-f63a-5bc3fc3e4ece"
      },
      "cell_type": "code",
      "source": [
        "f1_score(y_test, if_y_pred_class)"
      ],
      "execution_count": 40,
      "outputs": [
        {
          "output_type": "execute_result",
          "data": {
            "text/plain": [
              "0.10922330097087378"
            ]
          },
          "metadata": {},
          "execution_count": 40
        }
      ]
    },
    {
      "metadata": {
        "_uuid": "04080b075bb4389f84aaa0ad84099c91229520f0",
        "_cell_guid": "dabdd17a-9362-4688-9d8d-8a15e3583d9c",
        "trusted": true,
        "id": "prL4bbhTDoxk"
      },
      "cell_type": "code",
      "source": [
        "if_cm=confusion_matrix(y_test, if_y_pred_class)"
      ],
      "execution_count": 41,
      "outputs": []
    },
    {
      "metadata": {
        "_uuid": "39f2dde5fdc84a84f0d62d551015cb6afd200e4a",
        "_cell_guid": "96d74ca8-7381-4c8e-be7a-91b33168ad98",
        "trusted": true,
        "colab": {
          "base_uri": "https://localhost:8080/",
          "height": 395
        },
        "id": "3W_pxcycDoxl",
        "outputId": "f0dbfd90-2622-417d-ce55-69d472721340"
      },
      "cell_type": "code",
      "source": [
        "import seaborn as sn\n",
        "\n",
        "df_cm = pd.DataFrame(if_cm,\n",
        "                  ['True Normal','True Fraud'],['Pred Normal','Pred Fraud'])\n",
        "pyplot.figure(figsize = (8,4))\n",
        "sn.set(font_scale=1.4)#for label size\n",
        "sn.heatmap(df_cm, annot=True,annot_kws={\"size\": 16},fmt='g')# font size"
      ],
      "execution_count": 42,
      "outputs": [
        {
          "output_type": "execute_result",
          "data": {
            "text/plain": [
              "<Axes: >"
            ]
          },
          "metadata": {},
          "execution_count": 42
        },
        {
          "output_type": "display_data",
          "data": {
            "text/plain": [
              "<Figure size 800x400 with 2 Axes>"
            ],
            "image/png": "[encoded data removed]"
          },
          "metadata": {}
        }
      ]
    },
    {
      "metadata": {
        "_uuid": "92f451da96f40d2cdefa2dced4180a2b943419f3",
        "_cell_guid": "8592907e-159c-40f6-ae3a-5fab20197f1e",
        "id": "wARbdea-DoyH"
      },
      "cell_type": "markdown",
      "source": [
        "## Conclusion"
      ]
    },
    {
      "metadata": {
        "_uuid": "5a5c3cf6caf8dbc7dc0ce2e2942908123edb5de6",
        "_cell_guid": "0bd16ffd-6ef4-49c0-bc02-70e21f8828f3",
        "id": "y1Kzre_SDoyJ"
      },
      "cell_type": "markdown",
      "source": [
        "Coming to model performance, our isolation forest ensemble model is a clear winner!"
      ]
    },
    {
      "metadata": {
        "_uuid": "889bbaba98f9abb0308a105650ace98dd2ad3532",
        "_cell_guid": "5a69d5be-a6d3-444a-9bff-1bcb11bb2008",
        "collapsed": true,
        "trusted": false,
        "id": "QtuJKrnRDoyK"
      },
      "cell_type": "code",
      "source": [],
      "execution_count": null,
      "outputs": []
    }
  ],
  "metadata": {
    "language_info": {
      "name": "python",
      "version": "3.6.6",
      "mimetype": "text/x-python",
      "codemirror_mode": {
        "name": "ipython",
        "version": 3
      },
      "pygments_lexer": "ipython3",
      "nbconvert_exporter": "python",
      "file_extension": ".py"
    },
    "kernelspec": {
      "display_name": "Python 3",
      "name": "python3"
    },
    "colab": {
      "name": "Unsupervised Fraud Detection: Isolation Forest",
      "provenance": [],
      "gpuType": "T4",
      "include_colab_link": true
    },
    "accelerator": "GPU"
  },
  "nbformat": 4,
  "nbformat_minor": 0
}